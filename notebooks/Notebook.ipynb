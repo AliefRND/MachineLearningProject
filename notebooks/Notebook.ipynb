{
 "cells": [
  {
   "cell_type": "markdown",
   "metadata": {},
   "source": [
    "<h1 style=\"text-align: center;\">[Capstone Project Module 3: Hotel Booking Demand Classification Model ]</h1>\n",
    "<h3 style=\"text-align: center;\">[Alief Dharmawan]</h3>\n",
    "\n",
    "---"
   ]
  },
  {
   "cell_type": "markdown",
   "metadata": {},
   "source": [
    "## **Section 1. Business Understanding**"
   ]
  },
  {
   "cell_type": "markdown",
   "metadata": {},
   "source": [
    "**1.1 Context**\n",
    "\n",
    "\"This data set contains booking information for a hotel located in Portugal, and includes information regarding room reservation for respective customers.\n",
    "All personally identifying information has been removed from the data.\"\n",
    "\n",
    "The data includes the following features:\n",
    "\n",
    "country: Country of origin.\n",
    "\n",
    "market_segment: Market segment designation. \n",
    "\n",
    "previous_cancellations: Number of previous bookings that were cancelled by the customer prior to the current booking.\n",
    "\n",
    "booking_changes: Number of changes/amendments made to the booking from the moment the booking was entered on the PMS until the moment of check-in or cancellation.\n",
    "\n",
    "deposit_type: Indication on if the customer made a deposit to guarantee the booking. \n",
    "\n",
    "days_in_waiting_list: Number of days the booking was in the waiting list before it was confirmed to the customer.\n",
    "\n",
    "customer_type: Type of booking.\n",
    "\n",
    "reserved_room_type: Code of room type reserved. Code is presented instead of designation for anonymity reasons.\n",
    "\n",
    "required_car_parking_space: Number of car parking spaces required by the customer.\n",
    "\n",
    "total_of_special_request: Number of special requests made by the customer (e.g. twin bed or high floor).\n",
    "\n",
    "is_canceled: Value indicating if the booking was canceled (1) or not (0).\n",
    "\n",
    "\n",
    "The dataset contains booking information for a hotel in Portugal, including customer demographics, booking behaviors, and whether the reservation was canceled. Hotels often struggle with last-minute cancellations, which cause revenue loss and operational inefficiencies. By leveraging machine learning, the hotel can anticipate cancellations and take proactive measures such as overbooking or targeted customer outreach."
   ]
  },
  {
   "cell_type": "markdown",
   "metadata": {},
   "source": [
    "**1.2 Problem Statements**\n",
    "\n",
    "In the modern day of increasing adoption of technology, Hotels need to keep up with modern technology to compete and stay in business. One thing that every hotel needs to be aware of is the OTA, or Online Travel Agency, which is a third-party website or platform that allows travelers to book accommodations, flights, car rentals, and other travel services online. These platforms act as intermediaries, connecting hotels with potential guests and offering a convenient way to search, compare, and book travel arrangements. Using these comes with it's own problems. Some common Modern Hotel Problems include: =\n",
    "\n",
    "Digital Convenience:\n",
    "Guests want easy online booking, mobile check-in/check-out, and access to information via apps or websites. \n",
    "Relevant columns: Booking changes, Deposit type, Customer Type \n",
    "\n",
    "Competition:\n",
    "The hospitality industry is highly competitive, requiring hotels to differentiate themselves and manage pricing effectively. \n",
    "Relevant columns: previous cancellations, market segment, booking changes, days in waiting list, customer type \n",
    "\n",
    "Lack of Guest Information:\n",
    "Incomplete or inaccurate guest information from OTAs can lead to service issues. \n",
    "Relevant columns: Required car parking space, total of special request, reserved room type, days in waiting list \n",
    "\n",
    "Personalization:\n",
    "Guests increasingly expect personalized experiences, including tailored recommendations, customized room preferences, and seamless digital interactions. \n",
    "Relevant columns: Total of special requests, required car parking space, reserved room type \n",
    "\n",
    "Cancellations are an important metric for hotels to keep in mind so that they can better plan out their strategy. All of this data is to keep track and predict hotel cancellation bookings. \n",
    "\n",
    "The hotel experiences a substantial number of last-minute booking cancellations, leading to:\n",
    "- Lost revenue from unsold rooms.\n",
    "- Operational inefficiencies in room allocation and staffing.\n",
    "- Distorted demand forecasting and pricing decisions.\n",
    "\n",
    "**Core Problem:**  \n",
    "How can the hotel predict the likelihood of a booking being canceled early enough to take corrective actions?\n"
   ]
  },
  {
   "cell_type": "markdown",
   "metadata": {},
   "source": [
    "**1.3 Goals**\n",
    "\n",
    "- Build a predictive model to estimate the probability that a booking will be canceled.\n",
    "- Enable the hotel to adjust operational and revenue strategies based on predicted risk levels.\n",
    "- Provide actionable insights to reduce cancellation-related losses."
   ]
  },
  {
   "cell_type": "markdown",
   "metadata": {},
   "source": [
    "**1.4 Analytical Approach**\n",
    "\n",
    "- **Problem Type:** Binary Classification (Canceled vs. Not Canceled).\n",
    "- **Target Variable:** `is_canceled` (1 = canceled, 0 = not canceled).\n",
    "- **Possible Model Uses:** Logistic Regression, Random Forest, Gradient Boosting (XGBoost, LightGBM).\n",
    "- **Preprocessing Steps:**  \n",
    "  - Handle missing values.  \n",
    "  - Encode categorical features (`market_segment`, `deposit_type`, etc.).  \n",
    "  - Feature engineering (e.g., booking season, lead time categories).  \n",
    "  - Scale/normalize numerical variables if needed."
   ]
  },
  {
   "cell_type": "markdown",
   "metadata": {},
   "source": [
    "**1.5 Metric Evaluation (Business Metric, Machine Learning Evaluation Metric)**\n",
    "\n",
    "### Business Metric\n",
    "- **Reduction in revenue loss from cancellations** - measured by comparing historical cancellation rates to projected rates after implementing the predictive model.\n",
    "- **Operational efficiency gains** - e.g., reduced overstaffing or unused room inventory.\n",
    "\n",
    "### Machine Learning Evaluation Metric\n",
    "- **Primary Metric:** Recall on the \"canceled\" class - to maximize detection of likely cancellations.\n",
    "- **Secondary Metrics:**  \n",
    "  - F1-score - balance precision and recall.  \n",
    "  - ROC AUC - assess overall classification performance.\n",
    "\n",
    "Metric selection aligns with business priority: better to flag most high-risk bookings (higher recall) even at the cost of some false positives."
   ]
  },
  {
   "cell_type": "markdown",
   "metadata": {},
   "source": [
    "**1.6 Success Criteria**\n",
    "\n",
    "### Business Success\n",
    "- At least **X%** reduction in revenue loss from last-minute cancellations.  \n",
    "- Improved room occupancy rates and staff scheduling efficiency.\n",
    "\n",
    "### Machine Learning Success\n",
    "- Recall ≥ **0.80** on test data.  \n",
    "- F1-score ≥ **0.75** to maintain balanced performance."
   ]
  },
  {
   "cell_type": "markdown",
   "metadata": {},
   "source": [
    "## **Section 2. Data Understanding**"
   ]
  },
  {
   "cell_type": "markdown",
   "metadata": {},
   "source": [
    "**2.1 General Information**"
   ]
  },
  {
   "cell_type": "markdown",
   "metadata": {},
   "source": [
    "# Library Imports"
   ]
  },
  {
   "cell_type": "code",
   "execution_count": 7,
   "metadata": {},
   "outputs": [],
   "source": [
    "from sklearn.model_selection import train_test_split\n",
    "from sklearn.linear_model import LogisticRegression\n",
    "from sklearn.preprocessing import OneHotEncoder\n",
    "from sklearn.compose import ColumnTransformer\n",
    "from sklearn.pipeline import Pipeline\n",
    "from sklearn.metrics import classification_report, confusion_matrix, confusion_matrix, classification_report\n",
    "from sklearn.impute import SimpleImputer\n",
    "import numpy as np\n",
    "import pandas as pd"
   ]
  },
  {
   "cell_type": "code",
   "execution_count": 8,
   "metadata": {},
   "outputs": [],
   "source": [
    "df = pd.read_csv(r\"C:\\Users\\Alief\\Downloads\\Purwadhika Data Science Program\\Module 3 Machine Learning\\Capstone Project Module 3\\data_hotel_booking_demand.csv\")"
   ]
  },
  {
   "cell_type": "code",
   "execution_count": 10,
   "metadata": {},
   "outputs": [],
   "source": [
    "# Select features and target\n",
    "features = [\n",
    "    'market_segment', 'deposit_type', 'customer_type', 'reserved_room_type',\n",
    "    'previous_cancellations', 'booking_changes',\n",
    "    'required_car_parking_spaces', 'total_of_special_requests'\n",
    "]\n",
    "target = 'is_canceled'"
   ]
  },
  {
   "cell_type": "code",
   "execution_count": 12,
   "metadata": {},
   "outputs": [],
   "source": [
    "# Separate categorical and numerical features\n",
    "cat_features = ['market_segment', 'deposit_type', 'customer_type', 'reserved_room_type']\n",
    "num_features = ['previous_cancellations', 'booking_changes',\n",
    "                'required_car_parking_spaces', 'total_of_special_requests']"
   ]
  },
  {
   "cell_type": "markdown",
   "metadata": {},
   "source": [
    "**2.2 Feature Information**"
   ]
  },
  {
   "cell_type": "markdown",
   "metadata": {},
   "source": [
    "| Feature | Description | Impact to Business |\n",
    "|---------| ----------- | ------------------ |"
   ]
  },
  {
   "cell_type": "markdown",
   "metadata": {},
   "source": [
    "**2.3 Statistics Summary**"
   ]
  },
  {
   "cell_type": "markdown",
   "metadata": {},
   "source": [
    "## **Section 3. Data Cleaning**"
   ]
  },
  {
   "cell_type": "markdown",
   "metadata": {},
   "source": [
    "**3.1 Missing Values**"
   ]
  },
  {
   "cell_type": "markdown",
   "metadata": {},
   "source": [
    "**3.2 Duplicated Values**"
   ]
  },
  {
   "cell_type": "markdown",
   "metadata": {},
   "source": [
    "**3.3 Identify Spelling Errors**"
   ]
  },
  {
   "cell_type": "markdown",
   "metadata": {},
   "source": [
    "**3.4 Identify Anomaly Values**\n",
    "- Check Distribution (Numerical Variable)\n",
    "- Check Cardinality (Categorical Variable)"
   ]
  },
  {
   "cell_type": "markdown",
   "metadata": {},
   "source": [
    "## **Section 4. Data Generation**"
   ]
  },
  {
   "cell_type": "markdown",
   "metadata": {},
   "source": [
    "**4.1 Constructing `Seen` and `Unseen` Data**"
   ]
  },
  {
   "cell_type": "markdown",
   "metadata": {},
   "source": [
    "**4.2 Constructing `Training` and `Testing` Data (from `Seen` Dataset)**"
   ]
  },
  {
   "cell_type": "markdown",
   "metadata": {},
   "source": [
    "## **Section 5. Exploratory Data Analysis (EDA)**"
   ]
  },
  {
   "cell_type": "markdown",
   "metadata": {},
   "source": [
    "**5.1 Analysis 1**"
   ]
  },
  {
   "cell_type": "markdown",
   "metadata": {},
   "source": [
    "**5.2 Analysis 2**"
   ]
  },
  {
   "cell_type": "markdown",
   "metadata": {},
   "source": [
    "## **Section 6. Data Preparation**"
   ]
  },
  {
   "cell_type": "markdown",
   "metadata": {},
   "source": [
    "**6.1 Initialization**\n",
    "- Initialization function\n",
    "- Define Feature and Target"
   ]
  },
  {
   "cell_type": "markdown",
   "metadata": {},
   "source": [
    "**6.2 Data Transformation (Feature Engineering)**"
   ]
  },
  {
   "cell_type": "markdown",
   "metadata": {},
   "source": [
    "**6.3 Overview**"
   ]
  },
  {
   "cell_type": "markdown",
   "metadata": {},
   "source": [
    "## **Section 7. Model Development**"
   ]
  },
  {
   "cell_type": "markdown",
   "metadata": {},
   "source": [
    "**7.1 Initialization**\n",
    "- Initialization Function\n",
    "- Create Custome Metrics\n",
    "- Create a workflow of the experiment"
   ]
  },
  {
   "cell_type": "markdown",
   "metadata": {
    "vscode": {
     "languageId": "plaintext"
    }
   },
   "source": [
    "**7.2 Developing the Model Pipeline**"
   ]
  },
  {
   "cell_type": "markdown",
   "metadata": {},
   "source": [
    "**7.3 Model Benchmarking (Comparing model base performance)**"
   ]
  },
  {
   "cell_type": "markdown",
   "metadata": {},
   "source": [
    "**7.4 Tune Model**"
   ]
  },
  {
   "cell_type": "markdown",
   "metadata": {},
   "source": [
    "**7.5 Analyze Model**\n",
    "\n",
    "- Evaluate model on data testing\n",
    "- Residual Analysis\n",
    "- Learning Curve Inspection"
   ]
  },
  {
   "cell_type": "markdown",
   "metadata": {},
   "source": [
    "**7.6 Model Calibration (Classification Only)**"
   ]
  },
  {
   "cell_type": "markdown",
   "metadata": {},
   "source": [
    "**7.6 Model Explanation and Interpretation**\n",
    "- Feature Importance (Tree Based Model) / Coefficient Regression (Regression Based Model)\n",
    "- SHAP Value identification\n",
    "- Counter Factual Analysis"
   ]
  },
  {
   "cell_type": "markdown",
   "metadata": {},
   "source": [
    "## **Section 8. Model Deployment**"
   ]
  },
  {
   "cell_type": "markdown",
   "metadata": {},
   "source": [
    "## **Section 9. Model Implementation**"
   ]
  },
  {
   "cell_type": "markdown",
   "metadata": {},
   "source": [
    "**9.1 How to implement the model ?**\n"
   ]
  },
  {
   "cell_type": "markdown",
   "metadata": {},
   "source": [
    "**9.2 What are the limitations of the model ?**"
   ]
  },
  {
   "cell_type": "markdown",
   "metadata": {},
   "source": [
    "**9.3 Business Calculation (Simulation using unseen data)**"
   ]
  },
  {
   "cell_type": "markdown",
   "metadata": {},
   "source": [
    "## **Section 10. Conclusion and Recommendation**"
   ]
  },
  {
   "cell_type": "markdown",
   "metadata": {},
   "source": [
    "**10.1 Conclusion**\n",
    "- Conclusion (Model)\n",
    "- Conclusion (Business)"
   ]
  },
  {
   "cell_type": "markdown",
   "metadata": {},
   "source": [
    "**10.2 Recommendation**\n",
    "- Recommendation (Model)\n",
    "- Recommendation (Business)"
   ]
  }
 ],
 "metadata": {
  "kernelspec": {
   "display_name": "base",
   "language": "python",
   "name": "python3"
  },
  "language_info": {
   "codemirror_mode": {
    "name": "ipython",
    "version": 3
   },
   "file_extension": ".py",
   "mimetype": "text/x-python",
   "name": "python",
   "nbconvert_exporter": "python",
   "pygments_lexer": "ipython3",
   "version": "3.12.7"
  }
 },
 "nbformat": 4,
 "nbformat_minor": 2
}
