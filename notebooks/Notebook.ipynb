{
 "cells": [
  {
   "cell_type": "markdown",
   "metadata": {},
   "source": [
    "<h1 style=\"text-align: center;\">[Capstone Project Module 3: Hotel Booking Demand Classification Model ]</h1>\n",
    "<h3 style=\"text-align: center;\">[Alief Dharmawan]</h3>\n",
    "\n",
    "---"
   ]
  },
  {
   "cell_type": "markdown",
   "metadata": {},
   "source": [
    "## **Section 1. Business Understanding**"
   ]
  },
  {
   "cell_type": "markdown",
   "metadata": {},
   "source": [
    "**1.1 Context**\n",
    "\n",
    "\"This data set contains booking information for a hotel located in Portugal, and includes information regarding room reservation for respective customers.\n",
    "All personally identifying information has been removed from the data.\"\n",
    "\n",
    "The data includes the following features:\n",
    "\n",
    "country: Country of origin.\n",
    "\n",
    "market_segment: Market segment designation. \n",
    "\n",
    "previous_cancellations: Number of previous bookings that were cancelled by the customer prior to the current booking.\n",
    "\n",
    "booking_changes: Number of changes/amendments made to the booking from the moment the booking was entered on the PMS until the moment of check-in or cancellation.\n",
    "\n",
    "deposit_type: Indication on if the customer made a deposit to guarantee the booking. \n",
    "\n",
    "days_in_waiting_list: Number of days the booking was in the waiting list before it was confirmed to the customer.\n",
    "\n",
    "customer_type: Type of booking.\n",
    "\n",
    "reserved_room_type: Code of room type reserved. Code is presented instead of designation for anonymity reasons.\n",
    "\n",
    "required_car_parking_space: Number of car parking spaces required by the customer.\n",
    "\n",
    "total_of_special_request: Number of special requests made by the customer (e.g. twin bed or high floor).\n",
    "\n",
    "is_canceled: Value indicating if the booking was canceled (1) or not (0).\n",
    "\n",
    "\n",
    "The dataset contains booking information for a hotel in Portugal, including customer demographics, booking behaviors, and whether the reservation was canceled. Hotels often struggle with last-minute cancellations, which cause revenue loss and operational inefficiencies. By leveraging machine learning, the hotel can anticipate cancellations and take proactive measures such as overbooking or targeted customer outreach."
   ]
  },
  {
   "cell_type": "markdown",
   "metadata": {},
   "source": [
    "**1.2 Problem Statements**\n",
    "\n",
    "In the modern day of increasing adoption of technology, Hotels need to keep up with modern technology to compete and stay in business. One thing that every hotel needs to be aware of is the OTA, or Online Travel Agency, which is a third-party website or platform that allows travelers to book accommodations, flights, car rentals, and other travel services online. These platforms act as intermediaries, connecting hotels with potential guests and offering a convenient way to search, compare, and book travel arrangements. Using these comes with it's own problems. Some common Modern Hotel Problems include: =\n",
    "\n",
    "Digital Convenience:\n",
    "Guests want easy online booking, mobile check-in/check-out, and access to information via apps or websites. \n",
    "Relevant columns: Booking changes, Deposit type, Customer Type \n",
    "\n",
    "Competition:\n",
    "The hospitality industry is highly competitive, requiring hotels to differentiate themselves and manage pricing effectively. \n",
    "Relevant columns: previous cancellations, market segment, booking changes, days in waiting list, customer type \n",
    "\n",
    "Lack of Guest Information:\n",
    "Incomplete or inaccurate guest information from OTAs can lead to service issues. \n",
    "Relevant columns: Required car parking space, total of special request, reserved room type, days in waiting list \n",
    "\n",
    "Personalization:\n",
    "Guests increasingly expect personalized experiences, including tailored recommendations, customized room preferences, and seamless digital interactions. \n",
    "Relevant columns: Total of special requests, required car parking space, reserved room type \n",
    "\n",
    "Cancellations are an important metric for hotels to keep in mind so that they can better plan out their strategy. All of this data is to keep track and predict hotel cancellation bookings. \n",
    "\n",
    "The hotel experiences a substantial number of last-minute booking cancellations, leading to:\n",
    "- Lost revenue from unsold rooms.\n",
    "- Operational inefficiencies in room allocation and staffing.\n",
    "- Distorted demand forecasting and pricing decisions.\n",
    "\n",
    "**Core Problem:**  \n",
    "How can the hotel predict the likelihood of a booking being canceled early enough to take corrective actions?\n"
   ]
  },
  {
   "cell_type": "markdown",
   "metadata": {},
   "source": [
    "**1.3 Goals**\n",
    "\n",
    "- Build a predictive model to estimate the probability that a booking will be canceled.\n",
    "- Enable the hotel to adjust operational and revenue strategies based on predicted risk levels.\n",
    "- Provide actionable insights to reduce cancellation-related losses."
   ]
  },
  {
   "cell_type": "markdown",
   "metadata": {},
   "source": [
    "**1.4 Analytical Approach**\n",
    "\n",
    "- **Problem Type:** Binary Classification (Canceled vs. Not Canceled).\n",
    "- **Target Variable:** `is_canceled` (1 = canceled, 0 = not canceled).\n",
    "- **Possible Model Uses:** Logistic Regression, Random Forest, Gradient Boosting (XGBoost, LightGBM).\n",
    "- **Preprocessing Steps:**  \n",
    "  - Handle missing values.  \n",
    "  - Encode categorical features (`market_segment`, `deposit_type`, etc.).  \n",
    "  - Feature engineering (e.g., booking season, lead time categories).  \n",
    "  - Scale/normalize numerical variables if needed."
   ]
  },
  {
   "cell_type": "markdown",
   "metadata": {},
   "source": [
    "**1.5 Metric Evaluation (Business Metric, Machine Learning Evaluation Metric)**\n",
    "\n",
    "### Business Metric\n",
    "- **Reduction in revenue loss from cancellations** - measured by comparing historical cancellation rates to projected rates after implementing the predictive model.\n",
    "- **Operational efficiency gains** - e.g., reduced overstaffing or unused room inventory.\n",
    "\n",
    "### Machine Learning Evaluation Metric\n",
    "- **Primary Metric:** Recall on the \"canceled\" class - to maximize detection of likely cancellations.\n",
    "- **Secondary Metrics:**  \n",
    "  - F1-score - balance precision and recall.  \n",
    "  - ROC AUC - assess overall classification performance.\n",
    "\n",
    "Metric selection aligns with business priority: better to flag most high-risk bookings (higher recall) even at the cost of some false positives."
   ]
  },
  {
   "cell_type": "markdown",
   "metadata": {},
   "source": [
    "**1.6 Success Criteria**\n",
    "\n",
    "### Business Success\n",
    "- At least **X%** reduction in revenue loss from last-minute cancellations.  \n",
    "- Improved room occupancy rates and staff scheduling efficiency.\n",
    "\n",
    "### Machine Learning Success\n",
    "- Recall ≥ **0.80** on test data.  \n",
    "- F1-score ≥ **0.75** to maintain balanced performance."
   ]
  },
  {
   "cell_type": "markdown",
   "metadata": {},
   "source": [
    "## **Section 2. Data Understanding**\n",
    "\n",
    "**2.1 General Information**\n",
    "\n",
    "\n",
    "- **Dataset**: Hotel Booking Demand - booking records from a hotel in Portugal.\n",
    "- **Shape**: 83,573 rows × 11 columns.\n",
    "- **Data Types**:  \n",
    "  - Numeric (5): `previous_cancellations`, `booking_changes`, `required_car_parking_spaces`, `total_of_special_requests`, `days_in_waiting_list`\n",
    "  - Categorical (5): `market_segment`, `deposit_type`, `customer_type`, `reserved_room_type`, `country`\n",
    "- **Target Variable**: `is_canceled` - 1 if booking canceled, 0 otherwise."
   ]
  },
  {
   "cell_type": "markdown",
   "metadata": {},
   "source": [
    "###  Library Imports"
   ]
  },
  {
   "cell_type": "code",
   "execution_count": 147,
   "metadata": {},
   "outputs": [],
   "source": [
    "# Data Manipulation Library Imports\n",
    "\n",
    "import pandas as pd\n",
    "import numpy as np"
   ]
  },
  {
   "cell_type": "code",
   "execution_count": 148,
   "metadata": {},
   "outputs": [],
   "source": [
    "# Data Visualization Library Imports\n",
    "\n",
    "\n",
    "import matplotlib.pyplot as plt\n",
    "import seaborn as sns"
   ]
  },
  {
   "cell_type": "code",
   "execution_count": 149,
   "metadata": {},
   "outputs": [],
   "source": [
    "# Machine Learning Library Imports\n",
    "\n",
    "\n",
    "# Feature Engineering Library Imports\n",
    "from sklearn.pipeline import Pipeline\n",
    "from sklearn.impute import SimpleImputer\n",
    "from sklearn.preprocessing import OneHotEncoder, StandardScaler, LabelEncoder, OrdinalEncoder\n",
    "from sklearn.compose import ColumnTransformer\n",
    "import category_encoders as ce\n",
    "from sklearn.base import BaseEstimator, TransformerMixin\n",
    "\n",
    "# Model Selection Library Imports\n",
    "from sklearn.linear_model import LogisticRegression\n",
    "from sklearn.tree import DecisionTreeClassifier\n",
    "from sklearn.model_selection import GridSearchCV,StratifiedKFold,train_test_split, cross_val_score\n",
    "from sklearn.metrics import classification_report, confusion_matrix\n",
    "from sklearn.neighbors import KNeighborsClassifier\n",
    "from sklearn.ensemble import RandomForestClassifier, AdaBoostClassifier, GradientBoostingClassifier\n",
    "from xgboost import XGBClassifier\n",
    "from lightgbm import LGBMClassifier\n",
    "from sklearn.metrics import accuracy_score, precision_score, recall_score, f1_score, roc_auc_score, classification_report\n",
    "from sklearn.metrics import RocCurveDisplay, PrecisionRecallDisplay, ConfusionMatrixDisplay\n",
    "from sklearn.feature_selection import VarianceThreshold\n",
    "from sklearn.metrics import make_scorer, average_precision_score\n",
    "\n",
    "\n"
   ]
  },
  {
   "cell_type": "code",
   "execution_count": 150,
   "metadata": {},
   "outputs": [],
   "source": [
    "# Other Library Imports\n",
    "\n",
    "#for seeding and reproducibility\n",
    "import random \n",
    "\n",
    "# Ignore Warning\n",
    "import sys\n",
    "import warnings\n",
    "if not sys.warnoptions:\n",
    "    warnings.simplefilter(\"ignore\")\n",
    "\n",
    "# Set max columns\n",
    "pd.set_option('display.max_columns', None)"
   ]
  },
  {
   "cell_type": "code",
   "execution_count": 151,
   "metadata": {},
   "outputs": [
    {
     "data": {
      "application/vnd.microsoft.datawrangler.viewer.v0+json": {
       "columns": [
        {
         "name": "index",
         "rawType": "int64",
         "type": "integer"
        },
        {
         "name": "country",
         "rawType": "object",
         "type": "unknown"
        },
        {
         "name": "market_segment",
         "rawType": "object",
         "type": "string"
        },
        {
         "name": "previous_cancellations",
         "rawType": "int64",
         "type": "integer"
        },
        {
         "name": "booking_changes",
         "rawType": "int64",
         "type": "integer"
        },
        {
         "name": "deposit_type",
         "rawType": "object",
         "type": "string"
        },
        {
         "name": "days_in_waiting_list",
         "rawType": "int64",
         "type": "integer"
        },
        {
         "name": "customer_type",
         "rawType": "object",
         "type": "string"
        },
        {
         "name": "reserved_room_type",
         "rawType": "object",
         "type": "string"
        },
        {
         "name": "required_car_parking_spaces",
         "rawType": "int64",
         "type": "integer"
        },
        {
         "name": "total_of_special_requests",
         "rawType": "int64",
         "type": "integer"
        },
        {
         "name": "is_canceled",
         "rawType": "int64",
         "type": "integer"
        }
       ],
       "ref": "39fd9aa2-8f2e-457f-82b7-620e47736d22",
       "rows": [
        [
         "0",
         "IRL",
         "Offline TA/TO",
         "0",
         "0",
         "No Deposit",
         "0",
         "Transient-Party",
         "A",
         "0",
         "0",
         "0"
        ],
        [
         "1",
         "FRA",
         "Online TA",
         "0",
         "0",
         "No Deposit",
         "0",
         "Transient",
         "A",
         "0",
         "2",
         "0"
        ],
        [
         "2",
         "PRT",
         "Online TA",
         "0",
         "1",
         "No Deposit",
         "0",
         "Transient",
         "A",
         "0",
         "2",
         "0"
        ],
        [
         "3",
         "NLD",
         "Online TA",
         "0",
         "0",
         "No Deposit",
         "0",
         "Transient",
         "A",
         "0",
         "1",
         "1"
        ],
        [
         "4",
         "PRT",
         "Online TA",
         "0",
         "2",
         "No Deposit",
         "0",
         "Transient",
         "A",
         "0",
         "2",
         "0"
        ],
        [
         "5",
         "ESP",
         "Direct",
         "0",
         "1",
         "No Deposit",
         "0",
         "Transient-Party",
         "A",
         "0",
         "1",
         "0"
        ],
        [
         "6",
         "PRT",
         "Groups",
         "0",
         "0",
         "Non Refund",
         "0",
         "Transient",
         "A",
         "0",
         "0",
         "1"
        ],
        [
         "7",
         "PRT",
         "Groups",
         "0",
         "0",
         "Non Refund",
         "0",
         "Transient",
         "A",
         "0",
         "0",
         "1"
        ],
        [
         "8",
         "UMI",
         "Online TA",
         "0",
         "0",
         "No Deposit",
         "0",
         "Transient",
         "E",
         "0",
         "1",
         "1"
        ],
        [
         "9",
         "PRT",
         "Groups",
         "1",
         "0",
         "Non Refund",
         "0",
         "Contract",
         "A",
         "0",
         "0",
         "1"
        ],
        [
         "10",
         "CN",
         "Groups",
         "0",
         "1",
         "No Deposit",
         "0",
         "Transient-Party",
         "A",
         "0",
         "1",
         "0"
        ],
        [
         "11",
         "PRT",
         "Online TA",
         "0",
         "0",
         "No Deposit",
         "0",
         "Transient",
         "A",
         "0",
         "1",
         "0"
        ],
        [
         "12",
         "PRT",
         "Groups",
         "1",
         "0",
         "Non Refund",
         "0",
         "Transient",
         "A",
         "0",
         "0",
         "1"
        ],
        [
         "13",
         "FRA",
         "Online TA",
         "0",
         "0",
         "No Deposit",
         "0",
         "Transient",
         "E",
         "0",
         "0",
         "1"
        ],
        [
         "14",
         "PRT",
         "Offline TA/TO",
         "0",
         "0",
         "Non Refund",
         "3",
         "Transient",
         "A",
         "0",
         "0",
         "1"
        ],
        [
         "15",
         "LUX",
         "Direct",
         "0",
         "0",
         "No Deposit",
         "0",
         "Transient",
         "D",
         "1",
         "0",
         "0"
        ],
        [
         "16",
         "BRA",
         "Offline TA/TO",
         "0",
         "1",
         "No Deposit",
         "0",
         "Transient-Party",
         "A",
         "0",
         "1",
         "0"
        ],
        [
         "17",
         "BEL",
         "Online TA",
         "0",
         "1",
         "No Deposit",
         "0",
         "Transient",
         "A",
         "0",
         "1",
         "0"
        ],
        [
         "18",
         "JPN",
         "Online TA",
         "0",
         "0",
         "No Deposit",
         "0",
         "Transient",
         "A",
         "0",
         "2",
         "0"
        ],
        [
         "19",
         "DEU",
         "Offline TA/TO",
         "0",
         "0",
         "No Deposit",
         "0",
         "Transient",
         "A",
         "0",
         "0",
         "0"
        ],
        [
         "20",
         "FRA",
         "Offline TA/TO",
         "0",
         "0",
         "No Deposit",
         "0",
         "Transient",
         "D",
         "0",
         "0",
         "0"
        ],
        [
         "21",
         "ITA",
         "Online TA",
         "0",
         "0",
         "No Deposit",
         "0",
         "Transient",
         "A",
         "0",
         "1",
         "1"
        ],
        [
         "22",
         "PRT",
         "Groups",
         "0",
         "0",
         "Non Refund",
         "0",
         "Transient",
         "A",
         "0",
         "0",
         "1"
        ],
        [
         "23",
         "PRT",
         "Offline TA/TO",
         "0",
         "0",
         "Non Refund",
         "39",
         "Transient",
         "A",
         "0",
         "0",
         "1"
        ],
        [
         "24",
         "PRT",
         "Groups",
         "0",
         "0",
         "No Deposit",
         "0",
         "Transient-Party",
         "A",
         "0",
         "0",
         "0"
        ],
        [
         "25",
         "ESP",
         "Offline TA/TO",
         "0",
         "1",
         "No Deposit",
         "0",
         "Transient",
         "A",
         "0",
         "1",
         "0"
        ],
        [
         "26",
         "ESP",
         "Offline TA/TO",
         "0",
         "0",
         "No Deposit",
         "0",
         "Transient",
         "D",
         "0",
         "0",
         "0"
        ],
        [
         "27",
         "PRT",
         "Offline TA/TO",
         "0",
         "0",
         "Non Refund",
         "0",
         "Transient",
         "A",
         "0",
         "0",
         "1"
        ],
        [
         "28",
         "CHE",
         "Online TA",
         "0",
         "2",
         "No Deposit",
         "0",
         "Transient",
         "A",
         "0",
         "2",
         "0"
        ],
        [
         "29",
         "PRT",
         "Online TA",
         "0",
         "0",
         "No Deposit",
         "0",
         "Transient",
         "A",
         "0",
         "1",
         "0"
        ],
        [
         "30",
         "GBR",
         "Groups",
         "0",
         "2",
         "No Deposit",
         "0",
         "Transient-Party",
         "A",
         "0",
         "0",
         "0"
        ],
        [
         "31",
         "ESP",
         "Online TA",
         "0",
         "0",
         "No Deposit",
         "0",
         "Transient",
         "A",
         "0",
         "2",
         "1"
        ],
        [
         "32",
         "PRT",
         "Offline TA/TO",
         "1",
         "0",
         "No Deposit",
         "0",
         "Transient",
         "A",
         "0",
         "0",
         "1"
        ],
        [
         "33",
         "PRT",
         "Direct",
         "0",
         "0",
         "No Deposit",
         "0",
         "Transient",
         "A",
         "0",
         "0",
         "0"
        ],
        [
         "34",
         "PRT",
         "Groups",
         "0",
         "0",
         "Non Refund",
         "0",
         "Transient",
         "A",
         "0",
         "0",
         "1"
        ],
        [
         "35",
         "BEL",
         "Online TA",
         "0",
         "0",
         "No Deposit",
         "0",
         "Transient",
         "A",
         "0",
         "2",
         "1"
        ],
        [
         "36",
         "PRT",
         "Offline TA/TO",
         "0",
         "0",
         "No Deposit",
         "0",
         "Transient-Party",
         "A",
         "0",
         "0",
         "1"
        ],
        [
         "37",
         "DEU",
         "Online TA",
         "0",
         "0",
         "No Deposit",
         "0",
         "Transient-Party",
         "A",
         "0",
         "2",
         "0"
        ],
        [
         "38",
         "AGO",
         "Online TA",
         "0",
         "0",
         "No Deposit",
         "0",
         "Transient",
         "F",
         "0",
         "1",
         "1"
        ],
        [
         "39",
         "PRT",
         "Corporate",
         "0",
         "1",
         "No Deposit",
         "0",
         "Transient-Party",
         "A",
         "0",
         "0",
         "0"
        ],
        [
         "40",
         "DEU",
         "Groups",
         "0",
         "0",
         "No Deposit",
         "0",
         "Transient-Party",
         "A",
         "0",
         "0",
         "0"
        ],
        [
         "41",
         "SRB",
         "Offline TA/TO",
         "0",
         "0",
         "No Deposit",
         "0",
         "Transient-Party",
         "A",
         "0",
         "0",
         "0"
        ],
        [
         "42",
         "PRT",
         "Complementary",
         "0",
         "0",
         "No Deposit",
         "0",
         "Transient",
         "B",
         "0",
         "1",
         "0"
        ],
        [
         "43",
         "PRT",
         "Online TA",
         "0",
         "0",
         "No Deposit",
         "0",
         "Transient",
         "A",
         "1",
         "2",
         "0"
        ],
        [
         "44",
         "PRT",
         "Groups",
         "0",
         "0",
         "Non Refund",
         "0",
         "Transient",
         "A",
         "0",
         "0",
         "1"
        ],
        [
         "45",
         "PRT",
         "Offline TA/TO",
         "0",
         "0",
         "No Deposit",
         "0",
         "Transient-Party",
         "A",
         "0",
         "0",
         "1"
        ],
        [
         "46",
         "FRA",
         "Online TA",
         "0",
         "0",
         "No Deposit",
         "0",
         "Transient",
         "A",
         "0",
         "0",
         "1"
        ],
        [
         "47",
         "PRT",
         "Offline TA/TO",
         "0",
         "0",
         "No Deposit",
         "0",
         "Transient-Party",
         "A",
         "0",
         "0",
         "1"
        ],
        [
         "48",
         "ESP",
         "Direct",
         "0",
         "0",
         "No Deposit",
         "0",
         "Transient",
         "E",
         "0",
         "2",
         "0"
        ],
        [
         "49",
         "FRA",
         "Offline TA/TO",
         "0",
         "0",
         "No Deposit",
         "0",
         "Transient",
         "A",
         "0",
         "0",
         "0"
        ]
       ],
       "shape": {
        "columns": 11,
        "rows": 83573
       }
      },
      "text/html": [
       "<div>\n",
       "<style scoped>\n",
       "    .dataframe tbody tr th:only-of-type {\n",
       "        vertical-align: middle;\n",
       "    }\n",
       "\n",
       "    .dataframe tbody tr th {\n",
       "        vertical-align: top;\n",
       "    }\n",
       "\n",
       "    .dataframe thead th {\n",
       "        text-align: right;\n",
       "    }\n",
       "</style>\n",
       "<table border=\"1\" class=\"dataframe\">\n",
       "  <thead>\n",
       "    <tr style=\"text-align: right;\">\n",
       "      <th></th>\n",
       "      <th>country</th>\n",
       "      <th>market_segment</th>\n",
       "      <th>previous_cancellations</th>\n",
       "      <th>booking_changes</th>\n",
       "      <th>deposit_type</th>\n",
       "      <th>days_in_waiting_list</th>\n",
       "      <th>customer_type</th>\n",
       "      <th>reserved_room_type</th>\n",
       "      <th>required_car_parking_spaces</th>\n",
       "      <th>total_of_special_requests</th>\n",
       "      <th>is_canceled</th>\n",
       "    </tr>\n",
       "  </thead>\n",
       "  <tbody>\n",
       "    <tr>\n",
       "      <th>0</th>\n",
       "      <td>IRL</td>\n",
       "      <td>Offline TA/TO</td>\n",
       "      <td>0</td>\n",
       "      <td>0</td>\n",
       "      <td>No Deposit</td>\n",
       "      <td>0</td>\n",
       "      <td>Transient-Party</td>\n",
       "      <td>A</td>\n",
       "      <td>0</td>\n",
       "      <td>0</td>\n",
       "      <td>0</td>\n",
       "    </tr>\n",
       "    <tr>\n",
       "      <th>1</th>\n",
       "      <td>FRA</td>\n",
       "      <td>Online TA</td>\n",
       "      <td>0</td>\n",
       "      <td>0</td>\n",
       "      <td>No Deposit</td>\n",
       "      <td>0</td>\n",
       "      <td>Transient</td>\n",
       "      <td>A</td>\n",
       "      <td>0</td>\n",
       "      <td>2</td>\n",
       "      <td>0</td>\n",
       "    </tr>\n",
       "    <tr>\n",
       "      <th>2</th>\n",
       "      <td>PRT</td>\n",
       "      <td>Online TA</td>\n",
       "      <td>0</td>\n",
       "      <td>1</td>\n",
       "      <td>No Deposit</td>\n",
       "      <td>0</td>\n",
       "      <td>Transient</td>\n",
       "      <td>A</td>\n",
       "      <td>0</td>\n",
       "      <td>2</td>\n",
       "      <td>0</td>\n",
       "    </tr>\n",
       "    <tr>\n",
       "      <th>3</th>\n",
       "      <td>NLD</td>\n",
       "      <td>Online TA</td>\n",
       "      <td>0</td>\n",
       "      <td>0</td>\n",
       "      <td>No Deposit</td>\n",
       "      <td>0</td>\n",
       "      <td>Transient</td>\n",
       "      <td>A</td>\n",
       "      <td>0</td>\n",
       "      <td>1</td>\n",
       "      <td>1</td>\n",
       "    </tr>\n",
       "    <tr>\n",
       "      <th>4</th>\n",
       "      <td>PRT</td>\n",
       "      <td>Online TA</td>\n",
       "      <td>0</td>\n",
       "      <td>2</td>\n",
       "      <td>No Deposit</td>\n",
       "      <td>0</td>\n",
       "      <td>Transient</td>\n",
       "      <td>A</td>\n",
       "      <td>0</td>\n",
       "      <td>2</td>\n",
       "      <td>0</td>\n",
       "    </tr>\n",
       "    <tr>\n",
       "      <th>...</th>\n",
       "      <td>...</td>\n",
       "      <td>...</td>\n",
       "      <td>...</td>\n",
       "      <td>...</td>\n",
       "      <td>...</td>\n",
       "      <td>...</td>\n",
       "      <td>...</td>\n",
       "      <td>...</td>\n",
       "      <td>...</td>\n",
       "      <td>...</td>\n",
       "      <td>...</td>\n",
       "    </tr>\n",
       "    <tr>\n",
       "      <th>83568</th>\n",
       "      <td>PRT</td>\n",
       "      <td>Online TA</td>\n",
       "      <td>0</td>\n",
       "      <td>0</td>\n",
       "      <td>No Deposit</td>\n",
       "      <td>0</td>\n",
       "      <td>Contract</td>\n",
       "      <td>A</td>\n",
       "      <td>0</td>\n",
       "      <td>3</td>\n",
       "      <td>1</td>\n",
       "    </tr>\n",
       "    <tr>\n",
       "      <th>83569</th>\n",
       "      <td>FRA</td>\n",
       "      <td>Online TA</td>\n",
       "      <td>0</td>\n",
       "      <td>0</td>\n",
       "      <td>No Deposit</td>\n",
       "      <td>0</td>\n",
       "      <td>Transient</td>\n",
       "      <td>D</td>\n",
       "      <td>0</td>\n",
       "      <td>2</td>\n",
       "      <td>0</td>\n",
       "    </tr>\n",
       "    <tr>\n",
       "      <th>83570</th>\n",
       "      <td>PRT</td>\n",
       "      <td>Online TA</td>\n",
       "      <td>0</td>\n",
       "      <td>1</td>\n",
       "      <td>No Deposit</td>\n",
       "      <td>0</td>\n",
       "      <td>Transient</td>\n",
       "      <td>D</td>\n",
       "      <td>0</td>\n",
       "      <td>3</td>\n",
       "      <td>0</td>\n",
       "    </tr>\n",
       "    <tr>\n",
       "      <th>83571</th>\n",
       "      <td>CN</td>\n",
       "      <td>Offline TA/TO</td>\n",
       "      <td>0</td>\n",
       "      <td>0</td>\n",
       "      <td>No Deposit</td>\n",
       "      <td>0</td>\n",
       "      <td>Transient-Party</td>\n",
       "      <td>A</td>\n",
       "      <td>0</td>\n",
       "      <td>0</td>\n",
       "      <td>0</td>\n",
       "    </tr>\n",
       "    <tr>\n",
       "      <th>83572</th>\n",
       "      <td>PRT</td>\n",
       "      <td>Groups</td>\n",
       "      <td>0</td>\n",
       "      <td>0</td>\n",
       "      <td>Non Refund</td>\n",
       "      <td>0</td>\n",
       "      <td>Transient</td>\n",
       "      <td>A</td>\n",
       "      <td>0</td>\n",
       "      <td>0</td>\n",
       "      <td>1</td>\n",
       "    </tr>\n",
       "  </tbody>\n",
       "</table>\n",
       "<p>83573 rows × 11 columns</p>\n",
       "</div>"
      ],
      "text/plain": [
       "      country market_segment  previous_cancellations  booking_changes  \\\n",
       "0         IRL  Offline TA/TO                       0                0   \n",
       "1         FRA      Online TA                       0                0   \n",
       "2         PRT      Online TA                       0                1   \n",
       "3         NLD      Online TA                       0                0   \n",
       "4         PRT      Online TA                       0                2   \n",
       "...       ...            ...                     ...              ...   \n",
       "83568     PRT      Online TA                       0                0   \n",
       "83569     FRA      Online TA                       0                0   \n",
       "83570     PRT      Online TA                       0                1   \n",
       "83571      CN  Offline TA/TO                       0                0   \n",
       "83572     PRT         Groups                       0                0   \n",
       "\n",
       "      deposit_type  days_in_waiting_list    customer_type reserved_room_type  \\\n",
       "0       No Deposit                     0  Transient-Party                  A   \n",
       "1       No Deposit                     0        Transient                  A   \n",
       "2       No Deposit                     0        Transient                  A   \n",
       "3       No Deposit                     0        Transient                  A   \n",
       "4       No Deposit                     0        Transient                  A   \n",
       "...            ...                   ...              ...                ...   \n",
       "83568   No Deposit                     0         Contract                  A   \n",
       "83569   No Deposit                     0        Transient                  D   \n",
       "83570   No Deposit                     0        Transient                  D   \n",
       "83571   No Deposit                     0  Transient-Party                  A   \n",
       "83572   Non Refund                     0        Transient                  A   \n",
       "\n",
       "       required_car_parking_spaces  total_of_special_requests  is_canceled  \n",
       "0                                0                          0            0  \n",
       "1                                0                          2            0  \n",
       "2                                0                          2            0  \n",
       "3                                0                          1            1  \n",
       "4                                0                          2            0  \n",
       "...                            ...                        ...          ...  \n",
       "83568                            0                          3            1  \n",
       "83569                            0                          2            0  \n",
       "83570                            0                          3            0  \n",
       "83571                            0                          0            0  \n",
       "83572                            0                          0            1  \n",
       "\n",
       "[83573 rows x 11 columns]"
      ]
     },
     "execution_count": 151,
     "metadata": {},
     "output_type": "execute_result"
    }
   ],
   "source": [
    "#Load Dataset\n",
    "df = pd.read_csv(r\"C:\\Users\\Alief\\Downloads\\Purwadhika Data Science Program\\Module 3 Machine Learning\\Capstone Project Module 3\\data_hotel_booking_demand.csv\")\n",
    "df"
   ]
  },
  {
   "cell_type": "code",
   "execution_count": 152,
   "metadata": {},
   "outputs": [
    {
     "name": "stdout",
     "output_type": "stream",
     "text": [
      "Dataset uses approximately 25.99 MB of memory\n"
     ]
    }
   ],
   "source": [
    "#Checking the memory the dataset uses\n",
    "mem_usage_mb = df.memory_usage(deep=True).sum() / (1024**2)\n",
    "print(f\"Dataset uses approximately {mem_usage_mb:.2f} MB of memory\")\n"
   ]
  },
  {
   "cell_type": "code",
   "execution_count": 153,
   "metadata": {},
   "outputs": [],
   "source": [
    "# Reproducibility - For our machine learning models ahead, we will set the random seed to 42. Random state will be set to SEED from now on. \n",
    "SEED = 42\n",
    "np.random.seed(SEED)\n",
    "random.seed(SEED)"
   ]
  },
  {
   "cell_type": "markdown",
   "metadata": {},
   "source": [
    "**2.2 Feature Information**\n",
    "\n",
    "\n",
    "| Feature | Description | Impact to Business |\n",
    "|---------|-------------|--------------------|\n",
    "| country | Country of origin. | Identifies key markets; may reveal geographic patterns in cancellations. |\n",
    "| market_segment | Market segment designation. | Helps target marketing efforts and adjust offerings based on booking source. |\n",
    "| previous_cancellations | Number of previous bookings canceled by the customer prior to the current booking. | Strong indicator of customer reliability; high values may predict future cancellations. |\n",
    "| booking_changes | Number of changes/amendments made to the booking from the moment the booking was entered on the PMS until the moment of check-in or cancellation. | Frequent changes may indicate uncertainty and higher cancellation risk. |\n",
    "| deposit_type | Indication on if the customer made a deposit to guarantee the booking. | Certain deposit types may reduce cancellations; impacts pricing and refund policy. |\n",
    "| days_in_waiting_list | Number of days the booking was in the waiting list before it was confirmed to the customer. | Long waits might increase cancellation likelihood; affects booking management. |\n",
    "| customer_type | Type of booking. | Different customer types may have distinct booking behaviors and cancellation rates. |\n",
    "| reserved_room_type | Code of room type reserved. Code is presented instead of designation for anonymity reasons. | Mismatch between reserved and assigned room can lead to dissatisfaction; affects customer experience. |\n",
    "| required_car_parking_space | Number of car parking spaces required by the customer. | May indicate local vs. international guests; impacts facility planning. |\n",
    "| total_of_special_request | Number of special requests made by the customer (e.g. twin bed or high floor). | High requests may indicate high-value customers; may also correlate with satisfaction or cancellations. |\n",
    "| is_canceled | Value indicating if the booking was canceled (1) or not (0). | Target variable; directly measures booking success vs. loss. |\n"
   ]
  },
  {
   "cell_type": "markdown",
   "metadata": {},
   "source": [
    "**2.3 Statistics Summary**"
   ]
  },
  {
   "cell_type": "code",
   "execution_count": 154,
   "metadata": {},
   "outputs": [
    {
     "data": {
      "application/vnd.microsoft.datawrangler.viewer.v0+json": {
       "columns": [
        {
         "name": "index",
         "rawType": "object",
         "type": "string"
        },
        {
         "name": "previous_cancellations",
         "rawType": "float64",
         "type": "float"
        },
        {
         "name": "booking_changes",
         "rawType": "float64",
         "type": "float"
        },
        {
         "name": "days_in_waiting_list",
         "rawType": "float64",
         "type": "float"
        },
        {
         "name": "required_car_parking_spaces",
         "rawType": "float64",
         "type": "float"
        },
        {
         "name": "total_of_special_requests",
         "rawType": "float64",
         "type": "float"
        },
        {
         "name": "is_canceled",
         "rawType": "float64",
         "type": "float"
        }
       ],
       "ref": "be7f1c73-c2da-48bc-beb6-648fdc7a4291",
       "rows": [
        [
         "count",
         "83573.0",
         "83573.0",
         "83573.0",
         "83573.0",
         "83573.0",
         "83573.0"
        ],
        [
         "mean",
         "0.08679836789393704",
         "0.22089670108767184",
         "2.33056130568485",
         "0.06299881540688979",
         "0.5732114438873799",
         "0.36827683582018117"
        ],
        [
         "std",
         "0.8410105066368516",
         "0.6486349889480014",
         "17.67305119499523",
         "0.24691925661010916",
         "0.7951633830119128",
         "0.48233991316648317"
        ],
        [
         "min",
         "0.0",
         "0.0",
         "0.0",
         "0.0",
         "0.0",
         "0.0"
        ],
        [
         "25%",
         "0.0",
         "0.0",
         "0.0",
         "0.0",
         "0.0",
         "0.0"
        ],
        [
         "50%",
         "0.0",
         "0.0",
         "0.0",
         "0.0",
         "0.0",
         "0.0"
        ],
        [
         "75%",
         "0.0",
         "0.0",
         "0.0",
         "0.0",
         "1.0",
         "1.0"
        ],
        [
         "max",
         "26.0",
         "21.0",
         "391.0",
         "8.0",
         "5.0",
         "1.0"
        ]
       ],
       "shape": {
        "columns": 6,
        "rows": 8
       }
      },
      "text/html": [
       "<div>\n",
       "<style scoped>\n",
       "    .dataframe tbody tr th:only-of-type {\n",
       "        vertical-align: middle;\n",
       "    }\n",
       "\n",
       "    .dataframe tbody tr th {\n",
       "        vertical-align: top;\n",
       "    }\n",
       "\n",
       "    .dataframe thead th {\n",
       "        text-align: right;\n",
       "    }\n",
       "</style>\n",
       "<table border=\"1\" class=\"dataframe\">\n",
       "  <thead>\n",
       "    <tr style=\"text-align: right;\">\n",
       "      <th></th>\n",
       "      <th>previous_cancellations</th>\n",
       "      <th>booking_changes</th>\n",
       "      <th>days_in_waiting_list</th>\n",
       "      <th>required_car_parking_spaces</th>\n",
       "      <th>total_of_special_requests</th>\n",
       "      <th>is_canceled</th>\n",
       "    </tr>\n",
       "  </thead>\n",
       "  <tbody>\n",
       "    <tr>\n",
       "      <th>count</th>\n",
       "      <td>83573.000000</td>\n",
       "      <td>83573.000000</td>\n",
       "      <td>83573.000000</td>\n",
       "      <td>83573.000000</td>\n",
       "      <td>83573.000000</td>\n",
       "      <td>83573.000000</td>\n",
       "    </tr>\n",
       "    <tr>\n",
       "      <th>mean</th>\n",
       "      <td>0.086798</td>\n",
       "      <td>0.220897</td>\n",
       "      <td>2.330561</td>\n",
       "      <td>0.062999</td>\n",
       "      <td>0.573211</td>\n",
       "      <td>0.368277</td>\n",
       "    </tr>\n",
       "    <tr>\n",
       "      <th>std</th>\n",
       "      <td>0.841011</td>\n",
       "      <td>0.648635</td>\n",
       "      <td>17.673051</td>\n",
       "      <td>0.246919</td>\n",
       "      <td>0.795163</td>\n",
       "      <td>0.482340</td>\n",
       "    </tr>\n",
       "    <tr>\n",
       "      <th>min</th>\n",
       "      <td>0.000000</td>\n",
       "      <td>0.000000</td>\n",
       "      <td>0.000000</td>\n",
       "      <td>0.000000</td>\n",
       "      <td>0.000000</td>\n",
       "      <td>0.000000</td>\n",
       "    </tr>\n",
       "    <tr>\n",
       "      <th>25%</th>\n",
       "      <td>0.000000</td>\n",
       "      <td>0.000000</td>\n",
       "      <td>0.000000</td>\n",
       "      <td>0.000000</td>\n",
       "      <td>0.000000</td>\n",
       "      <td>0.000000</td>\n",
       "    </tr>\n",
       "    <tr>\n",
       "      <th>50%</th>\n",
       "      <td>0.000000</td>\n",
       "      <td>0.000000</td>\n",
       "      <td>0.000000</td>\n",
       "      <td>0.000000</td>\n",
       "      <td>0.000000</td>\n",
       "      <td>0.000000</td>\n",
       "    </tr>\n",
       "    <tr>\n",
       "      <th>75%</th>\n",
       "      <td>0.000000</td>\n",
       "      <td>0.000000</td>\n",
       "      <td>0.000000</td>\n",
       "      <td>0.000000</td>\n",
       "      <td>1.000000</td>\n",
       "      <td>1.000000</td>\n",
       "    </tr>\n",
       "    <tr>\n",
       "      <th>max</th>\n",
       "      <td>26.000000</td>\n",
       "      <td>21.000000</td>\n",
       "      <td>391.000000</td>\n",
       "      <td>8.000000</td>\n",
       "      <td>5.000000</td>\n",
       "      <td>1.000000</td>\n",
       "    </tr>\n",
       "  </tbody>\n",
       "</table>\n",
       "</div>"
      ],
      "text/plain": [
       "       previous_cancellations  booking_changes  days_in_waiting_list  \\\n",
       "count            83573.000000     83573.000000          83573.000000   \n",
       "mean                 0.086798         0.220897              2.330561   \n",
       "std                  0.841011         0.648635             17.673051   \n",
       "min                  0.000000         0.000000              0.000000   \n",
       "25%                  0.000000         0.000000              0.000000   \n",
       "50%                  0.000000         0.000000              0.000000   \n",
       "75%                  0.000000         0.000000              0.000000   \n",
       "max                 26.000000        21.000000            391.000000   \n",
       "\n",
       "       required_car_parking_spaces  total_of_special_requests   is_canceled  \n",
       "count                 83573.000000               83573.000000  83573.000000  \n",
       "mean                      0.062999                   0.573211      0.368277  \n",
       "std                       0.246919                   0.795163      0.482340  \n",
       "min                       0.000000                   0.000000      0.000000  \n",
       "25%                       0.000000                   0.000000      0.000000  \n",
       "50%                       0.000000                   0.000000      0.000000  \n",
       "75%                       0.000000                   1.000000      1.000000  \n",
       "max                       8.000000                   5.000000      1.000000  "
      ]
     },
     "execution_count": 154,
     "metadata": {},
     "output_type": "execute_result"
    }
   ],
   "source": [
    "df.describe()"
   ]
  },
  {
   "cell_type": "code",
   "execution_count": 155,
   "metadata": {},
   "outputs": [
    {
     "name": "stdout",
     "output_type": "stream",
     "text": [
      "<class 'pandas.core.frame.DataFrame'>\n",
      "RangeIndex: 83573 entries, 0 to 83572\n",
      "Data columns (total 11 columns):\n",
      " #   Column                       Non-Null Count  Dtype \n",
      "---  ------                       --------------  ----- \n",
      " 0   country                      83222 non-null  object\n",
      " 1   market_segment               83573 non-null  object\n",
      " 2   previous_cancellations       83573 non-null  int64 \n",
      " 3   booking_changes              83573 non-null  int64 \n",
      " 4   deposit_type                 83573 non-null  object\n",
      " 5   days_in_waiting_list         83573 non-null  int64 \n",
      " 6   customer_type                83573 non-null  object\n",
      " 7   reserved_room_type           83573 non-null  object\n",
      " 8   required_car_parking_spaces  83573 non-null  int64 \n",
      " 9   total_of_special_requests    83573 non-null  int64 \n",
      " 10  is_canceled                  83573 non-null  int64 \n",
      "dtypes: int64(6), object(5)\n",
      "memory usage: 7.0+ MB\n"
     ]
    }
   ],
   "source": [
    "df.info()"
   ]
  },
  {
   "cell_type": "code",
   "execution_count": 156,
   "metadata": {},
   "outputs": [
    {
     "data": {
      "application/vnd.microsoft.datawrangler.viewer.v0+json": {
       "columns": [
        {
         "name": "index",
         "rawType": "object",
         "type": "string"
        },
        {
         "name": "0",
         "rawType": "int64",
         "type": "integer"
        }
       ],
       "ref": "63dde955-963c-4a7c-8666-e286a196e4f1",
       "rows": [
        [
         "country",
         "162"
        ],
        [
         "market_segment",
         "8"
        ],
        [
         "previous_cancellations",
         "15"
        ],
        [
         "booking_changes",
         "19"
        ],
        [
         "deposit_type",
         "3"
        ],
        [
         "days_in_waiting_list",
         "115"
        ],
        [
         "customer_type",
         "4"
        ],
        [
         "reserved_room_type",
         "10"
        ],
        [
         "required_car_parking_spaces",
         "5"
        ],
        [
         "total_of_special_requests",
         "6"
        ],
        [
         "is_canceled",
         "2"
        ]
       ],
       "shape": {
        "columns": 1,
        "rows": 11
       }
      },
      "text/plain": [
       "country                        162\n",
       "market_segment                   8\n",
       "previous_cancellations          15\n",
       "booking_changes                 19\n",
       "deposit_type                     3\n",
       "days_in_waiting_list           115\n",
       "customer_type                    4\n",
       "reserved_room_type              10\n",
       "required_car_parking_spaces      5\n",
       "total_of_special_requests        6\n",
       "is_canceled                      2\n",
       "dtype: int64"
      ]
     },
     "execution_count": 156,
     "metadata": {},
     "output_type": "execute_result"
    }
   ],
   "source": [
    "df.nunique()"
   ]
  },
  {
   "cell_type": "code",
   "execution_count": 157,
   "metadata": {},
   "outputs": [
    {
     "data": {
      "application/vnd.microsoft.datawrangler.viewer.v0+json": {
       "columns": [
        {
         "name": "index",
         "rawType": "int64",
         "type": "integer"
        },
        {
         "name": "country",
         "rawType": "object",
         "type": "string"
        },
        {
         "name": "market_segment",
         "rawType": "object",
         "type": "string"
        },
        {
         "name": "previous_cancellations",
         "rawType": "int64",
         "type": "integer"
        },
        {
         "name": "booking_changes",
         "rawType": "int64",
         "type": "integer"
        },
        {
         "name": "deposit_type",
         "rawType": "object",
         "type": "string"
        },
        {
         "name": "days_in_waiting_list",
         "rawType": "int64",
         "type": "integer"
        },
        {
         "name": "customer_type",
         "rawType": "object",
         "type": "string"
        },
        {
         "name": "reserved_room_type",
         "rawType": "object",
         "type": "string"
        },
        {
         "name": "required_car_parking_spaces",
         "rawType": "int64",
         "type": "integer"
        },
        {
         "name": "total_of_special_requests",
         "rawType": "int64",
         "type": "integer"
        },
        {
         "name": "is_canceled",
         "rawType": "int64",
         "type": "integer"
        }
       ],
       "ref": "2f2cf044-c508-44ef-b2a4-dac300f49641",
       "rows": [
        [
         "0",
         "IRL",
         "Offline TA/TO",
         "0",
         "0",
         "No Deposit",
         "0",
         "Transient-Party",
         "A",
         "0",
         "0",
         "0"
        ],
        [
         "1",
         "FRA",
         "Online TA",
         "0",
         "0",
         "No Deposit",
         "0",
         "Transient",
         "A",
         "0",
         "2",
         "0"
        ],
        [
         "2",
         "PRT",
         "Online TA",
         "0",
         "1",
         "No Deposit",
         "0",
         "Transient",
         "A",
         "0",
         "2",
         "0"
        ],
        [
         "3",
         "NLD",
         "Online TA",
         "0",
         "0",
         "No Deposit",
         "0",
         "Transient",
         "A",
         "0",
         "1",
         "1"
        ],
        [
         "4",
         "PRT",
         "Online TA",
         "0",
         "2",
         "No Deposit",
         "0",
         "Transient",
         "A",
         "0",
         "2",
         "0"
        ]
       ],
       "shape": {
        "columns": 11,
        "rows": 5
       }
      },
      "text/html": [
       "<div>\n",
       "<style scoped>\n",
       "    .dataframe tbody tr th:only-of-type {\n",
       "        vertical-align: middle;\n",
       "    }\n",
       "\n",
       "    .dataframe tbody tr th {\n",
       "        vertical-align: top;\n",
       "    }\n",
       "\n",
       "    .dataframe thead th {\n",
       "        text-align: right;\n",
       "    }\n",
       "</style>\n",
       "<table border=\"1\" class=\"dataframe\">\n",
       "  <thead>\n",
       "    <tr style=\"text-align: right;\">\n",
       "      <th></th>\n",
       "      <th>country</th>\n",
       "      <th>market_segment</th>\n",
       "      <th>previous_cancellations</th>\n",
       "      <th>booking_changes</th>\n",
       "      <th>deposit_type</th>\n",
       "      <th>days_in_waiting_list</th>\n",
       "      <th>customer_type</th>\n",
       "      <th>reserved_room_type</th>\n",
       "      <th>required_car_parking_spaces</th>\n",
       "      <th>total_of_special_requests</th>\n",
       "      <th>is_canceled</th>\n",
       "    </tr>\n",
       "  </thead>\n",
       "  <tbody>\n",
       "    <tr>\n",
       "      <th>0</th>\n",
       "      <td>IRL</td>\n",
       "      <td>Offline TA/TO</td>\n",
       "      <td>0</td>\n",
       "      <td>0</td>\n",
       "      <td>No Deposit</td>\n",
       "      <td>0</td>\n",
       "      <td>Transient-Party</td>\n",
       "      <td>A</td>\n",
       "      <td>0</td>\n",
       "      <td>0</td>\n",
       "      <td>0</td>\n",
       "    </tr>\n",
       "    <tr>\n",
       "      <th>1</th>\n",
       "      <td>FRA</td>\n",
       "      <td>Online TA</td>\n",
       "      <td>0</td>\n",
       "      <td>0</td>\n",
       "      <td>No Deposit</td>\n",
       "      <td>0</td>\n",
       "      <td>Transient</td>\n",
       "      <td>A</td>\n",
       "      <td>0</td>\n",
       "      <td>2</td>\n",
       "      <td>0</td>\n",
       "    </tr>\n",
       "    <tr>\n",
       "      <th>2</th>\n",
       "      <td>PRT</td>\n",
       "      <td>Online TA</td>\n",
       "      <td>0</td>\n",
       "      <td>1</td>\n",
       "      <td>No Deposit</td>\n",
       "      <td>0</td>\n",
       "      <td>Transient</td>\n",
       "      <td>A</td>\n",
       "      <td>0</td>\n",
       "      <td>2</td>\n",
       "      <td>0</td>\n",
       "    </tr>\n",
       "    <tr>\n",
       "      <th>3</th>\n",
       "      <td>NLD</td>\n",
       "      <td>Online TA</td>\n",
       "      <td>0</td>\n",
       "      <td>0</td>\n",
       "      <td>No Deposit</td>\n",
       "      <td>0</td>\n",
       "      <td>Transient</td>\n",
       "      <td>A</td>\n",
       "      <td>0</td>\n",
       "      <td>1</td>\n",
       "      <td>1</td>\n",
       "    </tr>\n",
       "    <tr>\n",
       "      <th>4</th>\n",
       "      <td>PRT</td>\n",
       "      <td>Online TA</td>\n",
       "      <td>0</td>\n",
       "      <td>2</td>\n",
       "      <td>No Deposit</td>\n",
       "      <td>0</td>\n",
       "      <td>Transient</td>\n",
       "      <td>A</td>\n",
       "      <td>0</td>\n",
       "      <td>2</td>\n",
       "      <td>0</td>\n",
       "    </tr>\n",
       "  </tbody>\n",
       "</table>\n",
       "</div>"
      ],
      "text/plain": [
       "  country market_segment  previous_cancellations  booking_changes  \\\n",
       "0     IRL  Offline TA/TO                       0                0   \n",
       "1     FRA      Online TA                       0                0   \n",
       "2     PRT      Online TA                       0                1   \n",
       "3     NLD      Online TA                       0                0   \n",
       "4     PRT      Online TA                       0                2   \n",
       "\n",
       "  deposit_type  days_in_waiting_list    customer_type reserved_room_type  \\\n",
       "0   No Deposit                     0  Transient-Party                  A   \n",
       "1   No Deposit                     0        Transient                  A   \n",
       "2   No Deposit                     0        Transient                  A   \n",
       "3   No Deposit                     0        Transient                  A   \n",
       "4   No Deposit                     0        Transient                  A   \n",
       "\n",
       "   required_car_parking_spaces  total_of_special_requests  is_canceled  \n",
       "0                            0                          0            0  \n",
       "1                            0                          2            0  \n",
       "2                            0                          2            0  \n",
       "3                            0                          1            1  \n",
       "4                            0                          2            0  "
      ]
     },
     "execution_count": 157,
     "metadata": {},
     "output_type": "execute_result"
    }
   ],
   "source": [
    "df.head()"
   ]
  },
  {
   "cell_type": "markdown",
   "metadata": {},
   "source": [
    "Note: Each row represents a unique hotel booking record (anonymized), including customer characteristics, booking details, and whether the booking was canceled (is_canceled)"
   ]
  },
  {
   "cell_type": "markdown",
   "metadata": {},
   "source": [
    "## **Section 3. Data Cleaning**"
   ]
  },
  {
   "cell_type": "markdown",
   "metadata": {},
   "source": [
    "**3.1 Missing Values**"
   ]
  },
  {
   "cell_type": "code",
   "execution_count": 158,
   "metadata": {},
   "outputs": [
    {
     "data": {
      "application/vnd.microsoft.datawrangler.viewer.v0+json": {
       "columns": [
        {
         "name": "index",
         "rawType": "int64",
         "type": "integer"
        },
        {
         "name": "dataFeatures",
         "rawType": "object",
         "type": "string"
        },
        {
         "name": "dataType",
         "rawType": "object",
         "type": "unknown"
        },
        {
         "name": "null",
         "rawType": "int64",
         "type": "integer"
        },
        {
         "name": "nullPct",
         "rawType": "float64",
         "type": "float"
        },
        {
         "name": "unique",
         "rawType": "int64",
         "type": "integer"
        },
        {
         "name": "uniqueSample",
         "rawType": "object",
         "type": "unknown"
        }
       ],
       "ref": "d18fea72-4440-42d1-b5ff-e06de0321e53",
       "rows": [
        [
         "0",
         "country",
         "object",
         "351",
         "0.42",
         "162",
         "['GNB', 'JEY']"
        ],
        [
         "1",
         "market_segment",
         "object",
         "0",
         "0.0",
         "8",
         "['Offline TA/TO', 'Direct']"
        ],
        [
         "2",
         "previous_cancellations",
         "int64",
         "0",
         "0.0",
         "15",
         "[1, 11]"
        ],
        [
         "3",
         "booking_changes",
         "int64",
         "0",
         "0.0",
         "19",
         "[12, 1]"
        ],
        [
         "4",
         "deposit_type",
         "object",
         "0",
         "0.0",
         "3",
         "['Refundable', 'Non Refund']"
        ],
        [
         "5",
         "days_in_waiting_list",
         "int64",
         "0",
         "0.0",
         "115",
         "[56, 48]"
        ],
        [
         "6",
         "customer_type",
         "object",
         "0",
         "0.0",
         "4",
         "['Transient', 'Transient-Party']"
        ],
        [
         "7",
         "reserved_room_type",
         "object",
         "0",
         "0.0",
         "10",
         "['A', 'F']"
        ],
        [
         "8",
         "required_car_parking_spaces",
         "int64",
         "0",
         "0.0",
         "5",
         "[8, 0]"
        ],
        [
         "9",
         "total_of_special_requests",
         "int64",
         "0",
         "0.0",
         "6",
         "[4, 2]"
        ],
        [
         "10",
         "is_canceled",
         "int64",
         "0",
         "0.0",
         "2",
         "[1, 0]"
        ]
       ],
       "shape": {
        "columns": 6,
        "rows": 11
       }
      },
      "text/html": [
       "<div>\n",
       "<style scoped>\n",
       "    .dataframe tbody tr th:only-of-type {\n",
       "        vertical-align: middle;\n",
       "    }\n",
       "\n",
       "    .dataframe tbody tr th {\n",
       "        vertical-align: top;\n",
       "    }\n",
       "\n",
       "    .dataframe thead th {\n",
       "        text-align: right;\n",
       "    }\n",
       "</style>\n",
       "<table border=\"1\" class=\"dataframe\">\n",
       "  <thead>\n",
       "    <tr style=\"text-align: right;\">\n",
       "      <th></th>\n",
       "      <th>dataFeatures</th>\n",
       "      <th>dataType</th>\n",
       "      <th>null</th>\n",
       "      <th>nullPct</th>\n",
       "      <th>unique</th>\n",
       "      <th>uniqueSample</th>\n",
       "    </tr>\n",
       "  </thead>\n",
       "  <tbody>\n",
       "    <tr>\n",
       "      <th>0</th>\n",
       "      <td>country</td>\n",
       "      <td>object</td>\n",
       "      <td>351</td>\n",
       "      <td>0.42</td>\n",
       "      <td>162</td>\n",
       "      <td>[GNB, JEY]</td>\n",
       "    </tr>\n",
       "    <tr>\n",
       "      <th>1</th>\n",
       "      <td>market_segment</td>\n",
       "      <td>object</td>\n",
       "      <td>0</td>\n",
       "      <td>0.00</td>\n",
       "      <td>8</td>\n",
       "      <td>[Offline TA/TO, Direct]</td>\n",
       "    </tr>\n",
       "    <tr>\n",
       "      <th>2</th>\n",
       "      <td>previous_cancellations</td>\n",
       "      <td>int64</td>\n",
       "      <td>0</td>\n",
       "      <td>0.00</td>\n",
       "      <td>15</td>\n",
       "      <td>[1, 11]</td>\n",
       "    </tr>\n",
       "    <tr>\n",
       "      <th>3</th>\n",
       "      <td>booking_changes</td>\n",
       "      <td>int64</td>\n",
       "      <td>0</td>\n",
       "      <td>0.00</td>\n",
       "      <td>19</td>\n",
       "      <td>[12, 1]</td>\n",
       "    </tr>\n",
       "    <tr>\n",
       "      <th>4</th>\n",
       "      <td>deposit_type</td>\n",
       "      <td>object</td>\n",
       "      <td>0</td>\n",
       "      <td>0.00</td>\n",
       "      <td>3</td>\n",
       "      <td>[Refundable, Non Refund]</td>\n",
       "    </tr>\n",
       "    <tr>\n",
       "      <th>5</th>\n",
       "      <td>days_in_waiting_list</td>\n",
       "      <td>int64</td>\n",
       "      <td>0</td>\n",
       "      <td>0.00</td>\n",
       "      <td>115</td>\n",
       "      <td>[56, 48]</td>\n",
       "    </tr>\n",
       "    <tr>\n",
       "      <th>6</th>\n",
       "      <td>customer_type</td>\n",
       "      <td>object</td>\n",
       "      <td>0</td>\n",
       "      <td>0.00</td>\n",
       "      <td>4</td>\n",
       "      <td>[Transient, Transient-Party]</td>\n",
       "    </tr>\n",
       "    <tr>\n",
       "      <th>7</th>\n",
       "      <td>reserved_room_type</td>\n",
       "      <td>object</td>\n",
       "      <td>0</td>\n",
       "      <td>0.00</td>\n",
       "      <td>10</td>\n",
       "      <td>[A, F]</td>\n",
       "    </tr>\n",
       "    <tr>\n",
       "      <th>8</th>\n",
       "      <td>required_car_parking_spaces</td>\n",
       "      <td>int64</td>\n",
       "      <td>0</td>\n",
       "      <td>0.00</td>\n",
       "      <td>5</td>\n",
       "      <td>[8, 0]</td>\n",
       "    </tr>\n",
       "    <tr>\n",
       "      <th>9</th>\n",
       "      <td>total_of_special_requests</td>\n",
       "      <td>int64</td>\n",
       "      <td>0</td>\n",
       "      <td>0.00</td>\n",
       "      <td>6</td>\n",
       "      <td>[4, 2]</td>\n",
       "    </tr>\n",
       "    <tr>\n",
       "      <th>10</th>\n",
       "      <td>is_canceled</td>\n",
       "      <td>int64</td>\n",
       "      <td>0</td>\n",
       "      <td>0.00</td>\n",
       "      <td>2</td>\n",
       "      <td>[1, 0]</td>\n",
       "    </tr>\n",
       "  </tbody>\n",
       "</table>\n",
       "</div>"
      ],
      "text/plain": [
       "                   dataFeatures dataType  null  nullPct  unique  \\\n",
       "0                       country   object   351     0.42     162   \n",
       "1                market_segment   object     0     0.00       8   \n",
       "2        previous_cancellations    int64     0     0.00      15   \n",
       "3               booking_changes    int64     0     0.00      19   \n",
       "4                  deposit_type   object     0     0.00       3   \n",
       "5          days_in_waiting_list    int64     0     0.00     115   \n",
       "6                 customer_type   object     0     0.00       4   \n",
       "7            reserved_room_type   object     0     0.00      10   \n",
       "8   required_car_parking_spaces    int64     0     0.00       5   \n",
       "9     total_of_special_requests    int64     0     0.00       6   \n",
       "10                  is_canceled    int64     0     0.00       2   \n",
       "\n",
       "                    uniqueSample  \n",
       "0                     [GNB, JEY]  \n",
       "1        [Offline TA/TO, Direct]  \n",
       "2                        [1, 11]  \n",
       "3                        [12, 1]  \n",
       "4       [Refundable, Non Refund]  \n",
       "5                       [56, 48]  \n",
       "6   [Transient, Transient-Party]  \n",
       "7                         [A, F]  \n",
       "8                         [8, 0]  \n",
       "9                         [4, 2]  \n",
       "10                        [1, 0]  "
      ]
     },
     "execution_count": 158,
     "metadata": {},
     "output_type": "execute_result"
    }
   ],
   "source": [
    "# Checking missing values \n",
    "listItem = []\n",
    "for col in df.columns :\n",
    "    listItem.append([col, df[col].dtype, df[col].isna().sum(), round((df[col].isna().sum()/len(df[col])) * 100,2),\n",
    "                    df[col].nunique(), list(df[col].drop_duplicates().sample(2).values)]);\n",
    "\n",
    "dfDesc = pd.DataFrame(columns=['dataFeatures', 'dataType', 'null', 'nullPct', 'unique', 'uniqueSample'],\n",
    "                     data=listItem)\n",
    "dfDesc"
   ]
  },
  {
   "cell_type": "markdown",
   "metadata": {},
   "source": [
    "Imputing missing values will create a data leakage if I impute using mode before splitting. Therefore we will just note that I have decided to impute using the mode and continue on with the rest of the data cleaning first. \n",
    "Also important to re consider whether country is a valid feature to include. Will it cause unneccessary discrimination because of nationality?"
   ]
  },
  {
   "cell_type": "markdown",
   "metadata": {},
   "source": [
    "**3.2 Duplicated Values**"
   ]
  },
  {
   "cell_type": "code",
   "execution_count": 159,
   "metadata": {},
   "outputs": [
    {
     "name": "stdout",
     "output_type": "stream",
     "text": [
      "Duplicate rows: 73371\n"
     ]
    }
   ],
   "source": [
    "# Count duplicates\n",
    "dup_cnt = df.duplicated().sum()\n",
    "print(f\"Duplicate rows: {dup_cnt}\")\n",
    "# (No action yet—just measuring. If >0, we’ll decide later whether to drop.)"
   ]
  },
  {
   "cell_type": "markdown",
   "metadata": {},
   "source": [
    "“High apparent duplicates were detected, but due to the absence of a unique booking identifier, these likely represent legitimate separate bookings. Therefore, no duplicate removal was performed.”"
   ]
  },
  {
   "cell_type": "markdown",
   "metadata": {},
   "source": [
    "**3.3 Identify Anomaly Values**\n",
    "- Checking Feature Distribution of both Numerical and Categorical Variables\n",
    "- For our numerical variables, most of them have small integer ranges  and are count based. The only columns that are noteworthy to check for distribution is days in waiting list and previous cancellations. \n",
    "- For our categorical variables, it is still useful to check the distributions for most. "
   ]
  },
  {
   "cell_type": "code",
   "execution_count": 160,
   "metadata": {},
   "outputs": [
    {
     "data": {
      "application/vnd.microsoft.datawrangler.viewer.v0+json": {
       "columns": [
        {
         "name": "index",
         "rawType": "object",
         "type": "string"
        },
        {
         "name": "previous_cancellations",
         "rawType": "float64",
         "type": "float"
        },
        {
         "name": "booking_changes",
         "rawType": "float64",
         "type": "float"
        },
        {
         "name": "days_in_waiting_list",
         "rawType": "float64",
         "type": "float"
        },
        {
         "name": "required_car_parking_spaces",
         "rawType": "float64",
         "type": "float"
        },
        {
         "name": "total_of_special_requests",
         "rawType": "float64",
         "type": "float"
        },
        {
         "name": "is_canceled",
         "rawType": "float64",
         "type": "float"
        }
       ],
       "ref": "66c81084-0ce7-4bce-be22-915aee60d1c9",
       "rows": [
        [
         "count",
         "83573.0",
         "83573.0",
         "83573.0",
         "83573.0",
         "83573.0",
         "83573.0"
        ],
        [
         "mean",
         "0.08679836789393704",
         "0.22089670108767184",
         "2.33056130568485",
         "0.06299881540688979",
         "0.5732114438873799",
         "0.36827683582018117"
        ],
        [
         "std",
         "0.8410105066368516",
         "0.6486349889480014",
         "17.67305119499523",
         "0.24691925661010916",
         "0.7951633830119128",
         "0.48233991316648317"
        ],
        [
         "min",
         "0.0",
         "0.0",
         "0.0",
         "0.0",
         "0.0",
         "0.0"
        ],
        [
         "25%",
         "0.0",
         "0.0",
         "0.0",
         "0.0",
         "0.0",
         "0.0"
        ],
        [
         "50%",
         "0.0",
         "0.0",
         "0.0",
         "0.0",
         "0.0",
         "0.0"
        ],
        [
         "75%",
         "0.0",
         "0.0",
         "0.0",
         "0.0",
         "1.0",
         "1.0"
        ],
        [
         "max",
         "26.0",
         "21.0",
         "391.0",
         "8.0",
         "5.0",
         "1.0"
        ]
       ],
       "shape": {
        "columns": 6,
        "rows": 8
       }
      },
      "text/html": [
       "<div>\n",
       "<style scoped>\n",
       "    .dataframe tbody tr th:only-of-type {\n",
       "        vertical-align: middle;\n",
       "    }\n",
       "\n",
       "    .dataframe tbody tr th {\n",
       "        vertical-align: top;\n",
       "    }\n",
       "\n",
       "    .dataframe thead th {\n",
       "        text-align: right;\n",
       "    }\n",
       "</style>\n",
       "<table border=\"1\" class=\"dataframe\">\n",
       "  <thead>\n",
       "    <tr style=\"text-align: right;\">\n",
       "      <th></th>\n",
       "      <th>previous_cancellations</th>\n",
       "      <th>booking_changes</th>\n",
       "      <th>days_in_waiting_list</th>\n",
       "      <th>required_car_parking_spaces</th>\n",
       "      <th>total_of_special_requests</th>\n",
       "      <th>is_canceled</th>\n",
       "    </tr>\n",
       "  </thead>\n",
       "  <tbody>\n",
       "    <tr>\n",
       "      <th>count</th>\n",
       "      <td>83573.000000</td>\n",
       "      <td>83573.000000</td>\n",
       "      <td>83573.000000</td>\n",
       "      <td>83573.000000</td>\n",
       "      <td>83573.000000</td>\n",
       "      <td>83573.000000</td>\n",
       "    </tr>\n",
       "    <tr>\n",
       "      <th>mean</th>\n",
       "      <td>0.086798</td>\n",
       "      <td>0.220897</td>\n",
       "      <td>2.330561</td>\n",
       "      <td>0.062999</td>\n",
       "      <td>0.573211</td>\n",
       "      <td>0.368277</td>\n",
       "    </tr>\n",
       "    <tr>\n",
       "      <th>std</th>\n",
       "      <td>0.841011</td>\n",
       "      <td>0.648635</td>\n",
       "      <td>17.673051</td>\n",
       "      <td>0.246919</td>\n",
       "      <td>0.795163</td>\n",
       "      <td>0.482340</td>\n",
       "    </tr>\n",
       "    <tr>\n",
       "      <th>min</th>\n",
       "      <td>0.000000</td>\n",
       "      <td>0.000000</td>\n",
       "      <td>0.000000</td>\n",
       "      <td>0.000000</td>\n",
       "      <td>0.000000</td>\n",
       "      <td>0.000000</td>\n",
       "    </tr>\n",
       "    <tr>\n",
       "      <th>25%</th>\n",
       "      <td>0.000000</td>\n",
       "      <td>0.000000</td>\n",
       "      <td>0.000000</td>\n",
       "      <td>0.000000</td>\n",
       "      <td>0.000000</td>\n",
       "      <td>0.000000</td>\n",
       "    </tr>\n",
       "    <tr>\n",
       "      <th>50%</th>\n",
       "      <td>0.000000</td>\n",
       "      <td>0.000000</td>\n",
       "      <td>0.000000</td>\n",
       "      <td>0.000000</td>\n",
       "      <td>0.000000</td>\n",
       "      <td>0.000000</td>\n",
       "    </tr>\n",
       "    <tr>\n",
       "      <th>75%</th>\n",
       "      <td>0.000000</td>\n",
       "      <td>0.000000</td>\n",
       "      <td>0.000000</td>\n",
       "      <td>0.000000</td>\n",
       "      <td>1.000000</td>\n",
       "      <td>1.000000</td>\n",
       "    </tr>\n",
       "    <tr>\n",
       "      <th>max</th>\n",
       "      <td>26.000000</td>\n",
       "      <td>21.000000</td>\n",
       "      <td>391.000000</td>\n",
       "      <td>8.000000</td>\n",
       "      <td>5.000000</td>\n",
       "      <td>1.000000</td>\n",
       "    </tr>\n",
       "  </tbody>\n",
       "</table>\n",
       "</div>"
      ],
      "text/plain": [
       "       previous_cancellations  booking_changes  days_in_waiting_list  \\\n",
       "count            83573.000000     83573.000000          83573.000000   \n",
       "mean                 0.086798         0.220897              2.330561   \n",
       "std                  0.841011         0.648635             17.673051   \n",
       "min                  0.000000         0.000000              0.000000   \n",
       "25%                  0.000000         0.000000              0.000000   \n",
       "50%                  0.000000         0.000000              0.000000   \n",
       "75%                  0.000000         0.000000              0.000000   \n",
       "max                 26.000000        21.000000            391.000000   \n",
       "\n",
       "       required_car_parking_spaces  total_of_special_requests   is_canceled  \n",
       "count                 83573.000000               83573.000000  83573.000000  \n",
       "mean                      0.062999                   0.573211      0.368277  \n",
       "std                       0.246919                   0.795163      0.482340  \n",
       "min                       0.000000                   0.000000      0.000000  \n",
       "25%                       0.000000                   0.000000      0.000000  \n",
       "50%                       0.000000                   0.000000      0.000000  \n",
       "75%                       0.000000                   1.000000      1.000000  \n",
       "max                       8.000000                   5.000000      1.000000  "
      ]
     },
     "execution_count": 160,
     "metadata": {},
     "output_type": "execute_result"
    }
   ],
   "source": [
    "df.describe()"
   ]
  },
  {
   "cell_type": "markdown",
   "metadata": {},
   "source": [
    "We immediately can see that some of the numerical variables have unreasonable outliers. Being in a waiting list for over a year for eample, having unreasonable amounts of booking changes and prevoious cancellations. In terms of required car parking spots or total of special requests, I think the extresm of 8 parking spots and 5 special requests are still reasonable. "
   ]
  },
  {
   "cell_type": "code",
   "execution_count": 161,
   "metadata": {},
   "outputs": [
    {
     "data": {
      "application/vnd.microsoft.datawrangler.viewer.v0+json": {
       "columns": [
        {
         "name": "is_canceled",
         "rawType": "int64",
         "type": "integer"
        },
        {
         "name": "proportion",
         "rawType": "float64",
         "type": "float"
        }
       ],
       "ref": "dfffe8f7-f560-45c7-a281-ed2b77603367",
       "rows": [
        [
         "0",
         "63.17231641798189"
        ],
        [
         "1",
         "36.82768358201812"
        ]
       ],
       "shape": {
        "columns": 1,
        "rows": 2
       }
      },
      "text/plain": [
       "is_canceled\n",
       "0    63.172316\n",
       "1    36.827684\n",
       "Name: proportion, dtype: float64"
      ]
     },
     "execution_count": 161,
     "metadata": {},
     "output_type": "execute_result"
    }
   ],
   "source": [
    "# Checking target variable distribution and proportion of target data\n",
    "df['is_canceled'].value_counts(normalize=True) * 100"
   ]
  },
  {
   "cell_type": "markdown",
   "metadata": {},
   "source": [
    "We can see that it is an imbalanced distribution for those who cancelled. But it's not too bad. 63% didn't cancel while 36% did. However, this imbalance in class is not severe enough to warrant using imbalanced models. "
   ]
  },
  {
   "cell_type": "code",
   "execution_count": 162,
   "metadata": {},
   "outputs": [],
   "source": [
    "# Separate numeric and categorical columns\n",
    "numeric_cols = df.select_dtypes(include=['int64', 'float64']).columns.tolist()\n",
    "categorical_cols = df.select_dtypes(include=['object']).columns.tolist()"
   ]
  },
  {
   "cell_type": "markdown",
   "metadata": {},
   "source": [
    "Purpose: Assess the variety of values in each column to detect potential issues (e.g., invalid categories, unusual codes) and to guide later feature encoding."
   ]
  },
  {
   "cell_type": "code",
   "execution_count": 163,
   "metadata": {},
   "outputs": [
    {
     "data": {
      "application/vnd.microsoft.datawrangler.viewer.v0+json": {
       "columns": [
        {
         "name": "index",
         "rawType": "int64",
         "type": "integer"
        },
        {
         "name": "Feature",
         "rawType": "object",
         "type": "string"
        },
        {
         "name": "Unique Values",
         "rawType": "int64",
         "type": "integer"
        }
       ],
       "ref": "bbcf0e76-0736-443e-a9d7-6ecb50134158",
       "rows": [
        [
         "0",
         "previous_cancellations",
         "15"
        ],
        [
         "1",
         "booking_changes",
         "19"
        ],
        [
         "2",
         "days_in_waiting_list",
         "115"
        ],
        [
         "3",
         "required_car_parking_spaces",
         "5"
        ],
        [
         "4",
         "total_of_special_requests",
         "6"
        ],
        [
         "5",
         "is_canceled",
         "2"
        ]
       ],
       "shape": {
        "columns": 2,
        "rows": 6
       }
      },
      "text/html": [
       "<div>\n",
       "<style scoped>\n",
       "    .dataframe tbody tr th:only-of-type {\n",
       "        vertical-align: middle;\n",
       "    }\n",
       "\n",
       "    .dataframe tbody tr th {\n",
       "        vertical-align: top;\n",
       "    }\n",
       "\n",
       "    .dataframe thead th {\n",
       "        text-align: right;\n",
       "    }\n",
       "</style>\n",
       "<table border=\"1\" class=\"dataframe\">\n",
       "  <thead>\n",
       "    <tr style=\"text-align: right;\">\n",
       "      <th></th>\n",
       "      <th>Feature</th>\n",
       "      <th>Unique Values</th>\n",
       "    </tr>\n",
       "  </thead>\n",
       "  <tbody>\n",
       "    <tr>\n",
       "      <th>0</th>\n",
       "      <td>previous_cancellations</td>\n",
       "      <td>15</td>\n",
       "    </tr>\n",
       "    <tr>\n",
       "      <th>1</th>\n",
       "      <td>booking_changes</td>\n",
       "      <td>19</td>\n",
       "    </tr>\n",
       "    <tr>\n",
       "      <th>2</th>\n",
       "      <td>days_in_waiting_list</td>\n",
       "      <td>115</td>\n",
       "    </tr>\n",
       "    <tr>\n",
       "      <th>3</th>\n",
       "      <td>required_car_parking_spaces</td>\n",
       "      <td>5</td>\n",
       "    </tr>\n",
       "    <tr>\n",
       "      <th>4</th>\n",
       "      <td>total_of_special_requests</td>\n",
       "      <td>6</td>\n",
       "    </tr>\n",
       "    <tr>\n",
       "      <th>5</th>\n",
       "      <td>is_canceled</td>\n",
       "      <td>2</td>\n",
       "    </tr>\n",
       "  </tbody>\n",
       "</table>\n",
       "</div>"
      ],
      "text/plain": [
       "                       Feature  Unique Values\n",
       "0       previous_cancellations             15\n",
       "1              booking_changes             19\n",
       "2         days_in_waiting_list            115\n",
       "3  required_car_parking_spaces              5\n",
       "4    total_of_special_requests              6\n",
       "5                  is_canceled              2"
      ]
     },
     "execution_count": 163,
     "metadata": {},
     "output_type": "execute_result"
    }
   ],
   "source": [
    "# Count unique values for numeric columns\n",
    "nunique_numeric = df[numeric_cols].nunique().reset_index()\n",
    "nunique_numeric.columns = ['Feature', 'Unique Values']\n",
    "nunique_numeric"
   ]
  },
  {
   "cell_type": "code",
   "execution_count": 164,
   "metadata": {},
   "outputs": [
    {
     "data": {
      "text/plain": [
       "'No negative values found in numeric columns.'"
      ]
     },
     "execution_count": 164,
     "metadata": {},
     "output_type": "execute_result"
    }
   ],
   "source": [
    "invalid_counts = {}\n",
    "for col in numeric_cols:\n",
    "    if (df[col] < 0).any():\n",
    "        invalid_counts[col] = int((df[col] < 0).sum())\n",
    "invalid_counts if invalid_counts else \"No negative values found in numeric columns.\"\n"
   ]
  },
  {
   "cell_type": "markdown",
   "metadata": {},
   "source": [
    "We can use unique values for numeric columns as all of them are integers. This is also another way to check the distribution. "
   ]
  },
  {
   "cell_type": "markdown",
   "metadata": {},
   "source": [
    "Purpose: Review numeric feature distributions to detect skewness, extreme values, and anomalies that may require transformation or capping to improve model performance."
   ]
  },
  {
   "cell_type": "code",
   "execution_count": 165,
   "metadata": {},
   "outputs": [
    {
     "data": {
      "image/png": "[encoded data removed]",
      "text/plain": [
       "<Figure size 1500x500 with 3 Axes>"
      ]
     },
     "metadata": {},
     "output_type": "display_data"
    }
   ],
   "source": [
    "numeric_cols_to_plot1 = numeric_cols[:3]\n",
    "\n",
    "fig, axes = plt.subplots(1, 3, figsize=(15, 5))\n",
    "for ax, col in zip(axes, numeric_cols_to_plot1):\n",
    "    sns.boxplot(x=df[col], orient=\"h\", ax=ax)\n",
    "    ax.set_title(col)\n",
    "plt.tight_layout()\n",
    "plt.show()\n"
   ]
  },
  {
   "cell_type": "code",
   "execution_count": 166,
   "metadata": {},
   "outputs": [
    {
     "data": {
      "image/png": "[encoded data removed]",
      "text/plain": [
       "<Figure size 1500x500 with 2 Axes>"
      ]
     },
     "metadata": {},
     "output_type": "display_data"
    }
   ],
   "source": [
    "numeric_cols_to_plot2 = numeric_cols[-3:]\n",
    "\n",
    "fig, axes = plt.subplots(1, 2, figsize=(15, 5))\n",
    "for ax, col in zip(axes, numeric_cols_to_plot2):\n",
    "    sns.boxplot(x=df[col], orient=\"h\", ax=ax)\n",
    "    ax.set_title(col)\n",
    "plt.tight_layout()\n",
    "plt.show()"
   ]
  },
  {
   "cell_type": "markdown",
   "metadata": {},
   "source": [
    "We can see that most of the numeric columns actually have a lot of outliers."
   ]
  },
  {
   "cell_type": "code",
   "execution_count": 167,
   "metadata": {},
   "outputs": [
    {
     "data": {
      "image/png": "[encoded data removed]",
      "text/plain": [
       "<Figure size 1500x500 with 3 Axes>"
      ]
     },
     "metadata": {},
     "output_type": "display_data"
    }
   ],
   "source": [
    "fig, axes = plt.subplots(1, 3, figsize=(15, 5))\n",
    "\n",
    "for ax, col in zip(axes, numeric_cols_to_plot1):\n",
    "    sns.histplot(df[col], bins=30, kde=True, ax=ax)\n",
    "    ax.set_title(f\"Distribution of {col}\")\n",
    "\n",
    "plt.tight_layout()\n",
    "plt.show()"
   ]
  },
  {
   "cell_type": "code",
   "execution_count": 168,
   "metadata": {},
   "outputs": [
    {
     "data": {
      "image/png": "[encoded data removed]",
      "text/plain": [
       "<Figure size 1500x500 with 2 Axes>"
      ]
     },
     "metadata": {},
     "output_type": "display_data"
    }
   ],
   "source": [
    "fig, axes = plt.subplots(1, 2, figsize=(15, 5))\n",
    "\n",
    "for ax, col in zip(axes, numeric_cols_to_plot2):\n",
    "    sns.histplot(df[col], bins=30, kde=True, ax=ax)\n",
    "    ax.set_title(f\"Distribution of {col}\")\n",
    "\n",
    "plt.tight_layout()\n",
    "plt.show()"
   ]
  },
  {
   "cell_type": "code",
   "execution_count": 169,
   "metadata": {},
   "outputs": [
    {
     "data": {
      "application/vnd.microsoft.datawrangler.viewer.v0+json": {
       "columns": [
        {
         "name": "index",
         "rawType": "int64",
         "type": "integer"
        },
        {
         "name": "Numeric Columns",
         "rawType": "object",
         "type": "string"
        },
        {
         "name": "Lower Bound",
         "rawType": "float64",
         "type": "float"
        },
        {
         "name": "Upper Bound",
         "rawType": "float64",
         "type": "float"
        },
        {
         "name": "# Lower",
         "rawType": "int64",
         "type": "integer"
        },
        {
         "name": "# Upper",
         "rawType": "int64",
         "type": "integer"
        },
        {
         "name": "% Outlier",
         "rawType": "float64",
         "type": "float"
        }
       ],
       "ref": "6f23c44b-f996-4891-959c-de70fd8a0c5b",
       "rows": [
        [
         "0",
         "previous_cancellations",
         "0.0",
         "0.0",
         "0",
         "4513",
         "5.4"
        ],
        [
         "1",
         "booking_changes",
         "0.0",
         "0.0",
         "0",
         "12700",
         "15.2"
        ],
        [
         "2",
         "days_in_waiting_list",
         "0.0",
         "0.0",
         "0",
         "2585",
         "3.09"
        ],
        [
         "3",
         "required_car_parking_spaces",
         "0.0",
         "0.0",
         "0",
         "5227",
         "6.25"
        ],
        [
         "4",
         "total_of_special_requests",
         "-1.5",
         "2.5",
         "0",
         "2051",
         "2.45"
        ],
        [
         "5",
         "is_canceled",
         "-1.5",
         "2.5",
         "0",
         "0",
         "0.0"
        ]
       ],
       "shape": {
        "columns": 6,
        "rows": 6
       }
      },
      "text/html": [
       "<div>\n",
       "<style scoped>\n",
       "    .dataframe tbody tr th:only-of-type {\n",
       "        vertical-align: middle;\n",
       "    }\n",
       "\n",
       "    .dataframe tbody tr th {\n",
       "        vertical-align: top;\n",
       "    }\n",
       "\n",
       "    .dataframe thead th {\n",
       "        text-align: right;\n",
       "    }\n",
       "</style>\n",
       "<table border=\"1\" class=\"dataframe\">\n",
       "  <thead>\n",
       "    <tr style=\"text-align: right;\">\n",
       "      <th></th>\n",
       "      <th>Numeric Columns</th>\n",
       "      <th>Lower Bound</th>\n",
       "      <th>Upper Bound</th>\n",
       "      <th># Lower</th>\n",
       "      <th># Upper</th>\n",
       "      <th>% Outlier</th>\n",
       "    </tr>\n",
       "  </thead>\n",
       "  <tbody>\n",
       "    <tr>\n",
       "      <th>0</th>\n",
       "      <td>previous_cancellations</td>\n",
       "      <td>0.0</td>\n",
       "      <td>0.0</td>\n",
       "      <td>0</td>\n",
       "      <td>4513</td>\n",
       "      <td>5.40</td>\n",
       "    </tr>\n",
       "    <tr>\n",
       "      <th>1</th>\n",
       "      <td>booking_changes</td>\n",
       "      <td>0.0</td>\n",
       "      <td>0.0</td>\n",
       "      <td>0</td>\n",
       "      <td>12700</td>\n",
       "      <td>15.20</td>\n",
       "    </tr>\n",
       "    <tr>\n",
       "      <th>2</th>\n",
       "      <td>days_in_waiting_list</td>\n",
       "      <td>0.0</td>\n",
       "      <td>0.0</td>\n",
       "      <td>0</td>\n",
       "      <td>2585</td>\n",
       "      <td>3.09</td>\n",
       "    </tr>\n",
       "    <tr>\n",
       "      <th>3</th>\n",
       "      <td>required_car_parking_spaces</td>\n",
       "      <td>0.0</td>\n",
       "      <td>0.0</td>\n",
       "      <td>0</td>\n",
       "      <td>5227</td>\n",
       "      <td>6.25</td>\n",
       "    </tr>\n",
       "    <tr>\n",
       "      <th>4</th>\n",
       "      <td>total_of_special_requests</td>\n",
       "      <td>-1.5</td>\n",
       "      <td>2.5</td>\n",
       "      <td>0</td>\n",
       "      <td>2051</td>\n",
       "      <td>2.45</td>\n",
       "    </tr>\n",
       "    <tr>\n",
       "      <th>5</th>\n",
       "      <td>is_canceled</td>\n",
       "      <td>-1.5</td>\n",
       "      <td>2.5</td>\n",
       "      <td>0</td>\n",
       "      <td>0</td>\n",
       "      <td>0.00</td>\n",
       "    </tr>\n",
       "  </tbody>\n",
       "</table>\n",
       "</div>"
      ],
      "text/plain": [
       "               Numeric Columns  Lower Bound  Upper Bound  # Lower  # Upper  \\\n",
       "0       previous_cancellations          0.0          0.0        0     4513   \n",
       "1              booking_changes          0.0          0.0        0    12700   \n",
       "2         days_in_waiting_list          0.0          0.0        0     2585   \n",
       "3  required_car_parking_spaces          0.0          0.0        0     5227   \n",
       "4    total_of_special_requests         -1.5          2.5        0     2051   \n",
       "5                  is_canceled         -1.5          2.5        0        0   \n",
       "\n",
       "   % Outlier  \n",
       "0       5.40  \n",
       "1      15.20  \n",
       "2       3.09  \n",
       "3       6.25  \n",
       "4       2.45  \n",
       "5       0.00  "
      ]
     },
     "execution_count": 169,
     "metadata": {},
     "output_type": "execute_result"
    }
   ],
   "source": [
    "# show outliers for numerical column \n",
    "lower = []\n",
    "upper = []\n",
    "lower_count = []\n",
    "upper_count = []\n",
    "outlier_proportion = []\n",
    "\n",
    "for column in numeric_cols:\n",
    "    IQR = df[column].quantile(0.75) - df[column].quantile(0.25)\n",
    "    lower_bound = df[column].quantile(0.25) - 1.5 * IQR\n",
    "    upper_bound = df[column].quantile(0.75) + 1.5 * IQR\n",
    "\n",
    "    lower.append(lower_bound)\n",
    "    upper.append(upper_bound)\n",
    "    lower_count.append(len(df[df[column] < lower_bound]))\n",
    "    upper_count.append(len(df[df[column] > upper_bound]))\n",
    "    outlier_proportion.append(\n",
    "        round((len(df[df[column] < lower_bound]) + len(df[df[column] > upper_bound])) / len(df) * 100, 2)\n",
    "    )\n",
    "\n",
    "outliers = pd.DataFrame({\n",
    "    \"Numeric Columns\": numeric_cols,\n",
    "    \"Lower Bound\": lower,\n",
    "    \"Upper Bound\": upper,\n",
    "    \"# Lower\": lower_count,\n",
    "    \"# Upper\": upper_count,\n",
    "    \"% Outlier\": outlier_proportion\n",
    "})\n",
    "\n",
    "outliers"
   ]
  },
  {
   "cell_type": "markdown",
   "metadata": {},
   "source": [
    "Purpose: Review categorical feature distributions to detect imbalance, dominant categories, and rare labels that may require grouping before encoding."
   ]
  },
  {
   "cell_type": "code",
   "execution_count": 170,
   "metadata": {},
   "outputs": [
    {
     "data": {
      "application/vnd.microsoft.datawrangler.viewer.v0+json": {
       "columns": [
        {
         "name": "index",
         "rawType": "int64",
         "type": "integer"
        },
        {
         "name": "Feature",
         "rawType": "object",
         "type": "string"
        },
        {
         "name": "Unique Values",
         "rawType": "int64",
         "type": "integer"
        }
       ],
       "ref": "48f63122-74cc-4039-b980-2d9ca73b9177",
       "rows": [
        [
         "0",
         "country",
         "162"
        ],
        [
         "1",
         "market_segment",
         "8"
        ],
        [
         "2",
         "deposit_type",
         "3"
        ],
        [
         "3",
         "customer_type",
         "4"
        ],
        [
         "4",
         "reserved_room_type",
         "10"
        ]
       ],
       "shape": {
        "columns": 2,
        "rows": 5
       }
      },
      "text/html": [
       "<div>\n",
       "<style scoped>\n",
       "    .dataframe tbody tr th:only-of-type {\n",
       "        vertical-align: middle;\n",
       "    }\n",
       "\n",
       "    .dataframe tbody tr th {\n",
       "        vertical-align: top;\n",
       "    }\n",
       "\n",
       "    .dataframe thead th {\n",
       "        text-align: right;\n",
       "    }\n",
       "</style>\n",
       "<table border=\"1\" class=\"dataframe\">\n",
       "  <thead>\n",
       "    <tr style=\"text-align: right;\">\n",
       "      <th></th>\n",
       "      <th>Feature</th>\n",
       "      <th>Unique Values</th>\n",
       "    </tr>\n",
       "  </thead>\n",
       "  <tbody>\n",
       "    <tr>\n",
       "      <th>0</th>\n",
       "      <td>country</td>\n",
       "      <td>162</td>\n",
       "    </tr>\n",
       "    <tr>\n",
       "      <th>1</th>\n",
       "      <td>market_segment</td>\n",
       "      <td>8</td>\n",
       "    </tr>\n",
       "    <tr>\n",
       "      <th>2</th>\n",
       "      <td>deposit_type</td>\n",
       "      <td>3</td>\n",
       "    </tr>\n",
       "    <tr>\n",
       "      <th>3</th>\n",
       "      <td>customer_type</td>\n",
       "      <td>4</td>\n",
       "    </tr>\n",
       "    <tr>\n",
       "      <th>4</th>\n",
       "      <td>reserved_room_type</td>\n",
       "      <td>10</td>\n",
       "    </tr>\n",
       "  </tbody>\n",
       "</table>\n",
       "</div>"
      ],
      "text/plain": [
       "              Feature  Unique Values\n",
       "0             country            162\n",
       "1      market_segment              8\n",
       "2        deposit_type              3\n",
       "3       customer_type              4\n",
       "4  reserved_room_type             10"
      ]
     },
     "execution_count": 170,
     "metadata": {},
     "output_type": "execute_result"
    }
   ],
   "source": [
    "# Count unique values for categorical columns\n",
    "nunique_categorical = df[categorical_cols].nunique().reset_index()\n",
    "nunique_categorical.columns = ['Feature', 'Unique Values']\n",
    "nunique_categorical"
   ]
  },
  {
   "cell_type": "markdown",
   "metadata": {},
   "source": [
    "Again, we see another case of where it might be beneficial to drop country as a feature. High Cardinality, which means that it has contains so much possible values making it difficult for the model to determine noise"
   ]
  },
  {
   "cell_type": "code",
   "execution_count": 171,
   "metadata": {},
   "outputs": [
    {
     "data": {
      "application/vnd.microsoft.datawrangler.viewer.v0+json": {
       "columns": [
        {
         "name": "index",
         "rawType": "int64",
         "type": "integer"
        },
        {
         "name": "Column",
         "rawType": "object",
         "type": "string"
        },
        {
         "name": "Category",
         "rawType": "object",
         "type": "string"
        },
        {
         "name": "Count",
         "rawType": "int64",
         "type": "integer"
        },
        {
         "name": "Percentage",
         "rawType": "float64",
         "type": "float"
        }
       ],
       "ref": "59692b5f-a823-4336-b909-d5a05cf960ca",
       "rows": [
        [
         "0",
         "country",
         "PRT",
         "34097",
         "40.97"
        ],
        [
         "1",
         "country",
         "GBR",
         "8495",
         "10.21"
        ],
        [
         "2",
         "country",
         "FRA",
         "7307",
         "8.78"
        ],
        [
         "3",
         "country",
         "ESP",
         "5996",
         "7.2"
        ],
        [
         "4",
         "country",
         "DEU",
         "5116",
         "6.15"
        ],
        [
         "5",
         "country",
         "ITA",
         "2658",
         "3.19"
        ],
        [
         "6",
         "country",
         "IRL",
         "2340",
         "2.81"
        ],
        [
         "7",
         "country",
         "BEL",
         "1648",
         "1.98"
        ],
        [
         "8",
         "country",
         "BRA",
         "1553",
         "1.87"
        ],
        [
         "9",
         "country",
         "USA",
         "1472",
         "1.77"
        ],
        [
         "10",
         "market_segment",
         "Online TA",
         "39460",
         "47.22"
        ],
        [
         "11",
         "market_segment",
         "Offline TA/TO",
         "17025",
         "20.37"
        ],
        [
         "12",
         "market_segment",
         "Groups",
         "13721",
         "16.42"
        ],
        [
         "13",
         "market_segment",
         "Direct",
         "8898",
         "10.65"
        ],
        [
         "14",
         "market_segment",
         "Corporate",
         "3792",
         "4.54"
        ],
        [
         "15",
         "market_segment",
         "Complementary",
         "511",
         "0.61"
        ],
        [
         "16",
         "market_segment",
         "Aviation",
         "165",
         "0.2"
        ],
        [
         "17",
         "market_segment",
         "Undefined",
         "1",
         "0.0"
        ],
        [
         "18",
         "deposit_type",
         "No Deposit",
         "73352",
         "87.77"
        ],
        [
         "19",
         "deposit_type",
         "Non Refund",
         "10111",
         "12.1"
        ],
        [
         "20",
         "deposit_type",
         "Refundable",
         "110",
         "0.13"
        ],
        [
         "21",
         "customer_type",
         "Transient",
         "62732",
         "75.06"
        ],
        [
         "22",
         "customer_type",
         "Transient-Party",
         "17536",
         "20.98"
        ],
        [
         "23",
         "customer_type",
         "Contract",
         "2882",
         "3.45"
        ],
        [
         "24",
         "customer_type",
         "Group",
         "423",
         "0.51"
        ],
        [
         "25",
         "reserved_room_type",
         "A",
         "60041",
         "71.84"
        ],
        [
         "26",
         "reserved_room_type",
         "D",
         "13526",
         "16.18"
        ],
        [
         "27",
         "reserved_room_type",
         "E",
         "4649",
         "5.56"
        ],
        [
         "28",
         "reserved_room_type",
         "F",
         "2037",
         "2.44"
        ],
        [
         "29",
         "reserved_room_type",
         "G",
         "1447",
         "1.73"
        ],
        [
         "30",
         "reserved_room_type",
         "B",
         "787",
         "0.94"
        ],
        [
         "31",
         "reserved_room_type",
         "C",
         "673",
         "0.81"
        ],
        [
         "32",
         "reserved_room_type",
         "H",
         "401",
         "0.48"
        ],
        [
         "33",
         "reserved_room_type",
         "P",
         "9",
         "0.01"
        ],
        [
         "34",
         "reserved_room_type",
         "L",
         "3",
         "0.0"
        ]
       ],
       "shape": {
        "columns": 4,
        "rows": 35
       }
      },
      "text/html": [
       "<div>\n",
       "<style scoped>\n",
       "    .dataframe tbody tr th:only-of-type {\n",
       "        vertical-align: middle;\n",
       "    }\n",
       "\n",
       "    .dataframe tbody tr th {\n",
       "        vertical-align: top;\n",
       "    }\n",
       "\n",
       "    .dataframe thead th {\n",
       "        text-align: right;\n",
       "    }\n",
       "</style>\n",
       "<table border=\"1\" class=\"dataframe\">\n",
       "  <thead>\n",
       "    <tr style=\"text-align: right;\">\n",
       "      <th></th>\n",
       "      <th>Column</th>\n",
       "      <th>Category</th>\n",
       "      <th>Count</th>\n",
       "      <th>Percentage</th>\n",
       "    </tr>\n",
       "  </thead>\n",
       "  <tbody>\n",
       "    <tr>\n",
       "      <th>0</th>\n",
       "      <td>country</td>\n",
       "      <td>PRT</td>\n",
       "      <td>34097</td>\n",
       "      <td>40.97</td>\n",
       "    </tr>\n",
       "    <tr>\n",
       "      <th>1</th>\n",
       "      <td>country</td>\n",
       "      <td>GBR</td>\n",
       "      <td>8495</td>\n",
       "      <td>10.21</td>\n",
       "    </tr>\n",
       "    <tr>\n",
       "      <th>2</th>\n",
       "      <td>country</td>\n",
       "      <td>FRA</td>\n",
       "      <td>7307</td>\n",
       "      <td>8.78</td>\n",
       "    </tr>\n",
       "    <tr>\n",
       "      <th>3</th>\n",
       "      <td>country</td>\n",
       "      <td>ESP</td>\n",
       "      <td>5996</td>\n",
       "      <td>7.20</td>\n",
       "    </tr>\n",
       "    <tr>\n",
       "      <th>4</th>\n",
       "      <td>country</td>\n",
       "      <td>DEU</td>\n",
       "      <td>5116</td>\n",
       "      <td>6.15</td>\n",
       "    </tr>\n",
       "    <tr>\n",
       "      <th>5</th>\n",
       "      <td>country</td>\n",
       "      <td>ITA</td>\n",
       "      <td>2658</td>\n",
       "      <td>3.19</td>\n",
       "    </tr>\n",
       "    <tr>\n",
       "      <th>6</th>\n",
       "      <td>country</td>\n",
       "      <td>IRL</td>\n",
       "      <td>2340</td>\n",
       "      <td>2.81</td>\n",
       "    </tr>\n",
       "    <tr>\n",
       "      <th>7</th>\n",
       "      <td>country</td>\n",
       "      <td>BEL</td>\n",
       "      <td>1648</td>\n",
       "      <td>1.98</td>\n",
       "    </tr>\n",
       "    <tr>\n",
       "      <th>8</th>\n",
       "      <td>country</td>\n",
       "      <td>BRA</td>\n",
       "      <td>1553</td>\n",
       "      <td>1.87</td>\n",
       "    </tr>\n",
       "    <tr>\n",
       "      <th>9</th>\n",
       "      <td>country</td>\n",
       "      <td>USA</td>\n",
       "      <td>1472</td>\n",
       "      <td>1.77</td>\n",
       "    </tr>\n",
       "    <tr>\n",
       "      <th>10</th>\n",
       "      <td>market_segment</td>\n",
       "      <td>Online TA</td>\n",
       "      <td>39460</td>\n",
       "      <td>47.22</td>\n",
       "    </tr>\n",
       "    <tr>\n",
       "      <th>11</th>\n",
       "      <td>market_segment</td>\n",
       "      <td>Offline TA/TO</td>\n",
       "      <td>17025</td>\n",
       "      <td>20.37</td>\n",
       "    </tr>\n",
       "    <tr>\n",
       "      <th>12</th>\n",
       "      <td>market_segment</td>\n",
       "      <td>Groups</td>\n",
       "      <td>13721</td>\n",
       "      <td>16.42</td>\n",
       "    </tr>\n",
       "    <tr>\n",
       "      <th>13</th>\n",
       "      <td>market_segment</td>\n",
       "      <td>Direct</td>\n",
       "      <td>8898</td>\n",
       "      <td>10.65</td>\n",
       "    </tr>\n",
       "    <tr>\n",
       "      <th>14</th>\n",
       "      <td>market_segment</td>\n",
       "      <td>Corporate</td>\n",
       "      <td>3792</td>\n",
       "      <td>4.54</td>\n",
       "    </tr>\n",
       "    <tr>\n",
       "      <th>15</th>\n",
       "      <td>market_segment</td>\n",
       "      <td>Complementary</td>\n",
       "      <td>511</td>\n",
       "      <td>0.61</td>\n",
       "    </tr>\n",
       "    <tr>\n",
       "      <th>16</th>\n",
       "      <td>market_segment</td>\n",
       "      <td>Aviation</td>\n",
       "      <td>165</td>\n",
       "      <td>0.20</td>\n",
       "    </tr>\n",
       "    <tr>\n",
       "      <th>17</th>\n",
       "      <td>market_segment</td>\n",
       "      <td>Undefined</td>\n",
       "      <td>1</td>\n",
       "      <td>0.00</td>\n",
       "    </tr>\n",
       "    <tr>\n",
       "      <th>18</th>\n",
       "      <td>deposit_type</td>\n",
       "      <td>No Deposit</td>\n",
       "      <td>73352</td>\n",
       "      <td>87.77</td>\n",
       "    </tr>\n",
       "    <tr>\n",
       "      <th>19</th>\n",
       "      <td>deposit_type</td>\n",
       "      <td>Non Refund</td>\n",
       "      <td>10111</td>\n",
       "      <td>12.10</td>\n",
       "    </tr>\n",
       "    <tr>\n",
       "      <th>20</th>\n",
       "      <td>deposit_type</td>\n",
       "      <td>Refundable</td>\n",
       "      <td>110</td>\n",
       "      <td>0.13</td>\n",
       "    </tr>\n",
       "    <tr>\n",
       "      <th>21</th>\n",
       "      <td>customer_type</td>\n",
       "      <td>Transient</td>\n",
       "      <td>62732</td>\n",
       "      <td>75.06</td>\n",
       "    </tr>\n",
       "    <tr>\n",
       "      <th>22</th>\n",
       "      <td>customer_type</td>\n",
       "      <td>Transient-Party</td>\n",
       "      <td>17536</td>\n",
       "      <td>20.98</td>\n",
       "    </tr>\n",
       "    <tr>\n",
       "      <th>23</th>\n",
       "      <td>customer_type</td>\n",
       "      <td>Contract</td>\n",
       "      <td>2882</td>\n",
       "      <td>3.45</td>\n",
       "    </tr>\n",
       "    <tr>\n",
       "      <th>24</th>\n",
       "      <td>customer_type</td>\n",
       "      <td>Group</td>\n",
       "      <td>423</td>\n",
       "      <td>0.51</td>\n",
       "    </tr>\n",
       "    <tr>\n",
       "      <th>25</th>\n",
       "      <td>reserved_room_type</td>\n",
       "      <td>A</td>\n",
       "      <td>60041</td>\n",
       "      <td>71.84</td>\n",
       "    </tr>\n",
       "    <tr>\n",
       "      <th>26</th>\n",
       "      <td>reserved_room_type</td>\n",
       "      <td>D</td>\n",
       "      <td>13526</td>\n",
       "      <td>16.18</td>\n",
       "    </tr>\n",
       "    <tr>\n",
       "      <th>27</th>\n",
       "      <td>reserved_room_type</td>\n",
       "      <td>E</td>\n",
       "      <td>4649</td>\n",
       "      <td>5.56</td>\n",
       "    </tr>\n",
       "    <tr>\n",
       "      <th>28</th>\n",
       "      <td>reserved_room_type</td>\n",
       "      <td>F</td>\n",
       "      <td>2037</td>\n",
       "      <td>2.44</td>\n",
       "    </tr>\n",
       "    <tr>\n",
       "      <th>29</th>\n",
       "      <td>reserved_room_type</td>\n",
       "      <td>G</td>\n",
       "      <td>1447</td>\n",
       "      <td>1.73</td>\n",
       "    </tr>\n",
       "    <tr>\n",
       "      <th>30</th>\n",
       "      <td>reserved_room_type</td>\n",
       "      <td>B</td>\n",
       "      <td>787</td>\n",
       "      <td>0.94</td>\n",
       "    </tr>\n",
       "    <tr>\n",
       "      <th>31</th>\n",
       "      <td>reserved_room_type</td>\n",
       "      <td>C</td>\n",
       "      <td>673</td>\n",
       "      <td>0.81</td>\n",
       "    </tr>\n",
       "    <tr>\n",
       "      <th>32</th>\n",
       "      <td>reserved_room_type</td>\n",
       "      <td>H</td>\n",
       "      <td>401</td>\n",
       "      <td>0.48</td>\n",
       "    </tr>\n",
       "    <tr>\n",
       "      <th>33</th>\n",
       "      <td>reserved_room_type</td>\n",
       "      <td>P</td>\n",
       "      <td>9</td>\n",
       "      <td>0.01</td>\n",
       "    </tr>\n",
       "    <tr>\n",
       "      <th>34</th>\n",
       "      <td>reserved_room_type</td>\n",
       "      <td>L</td>\n",
       "      <td>3</td>\n",
       "      <td>0.00</td>\n",
       "    </tr>\n",
       "  </tbody>\n",
       "</table>\n",
       "</div>"
      ],
      "text/plain": [
       "                Column         Category  Count  Percentage\n",
       "0              country              PRT  34097       40.97\n",
       "1              country              GBR   8495       10.21\n",
       "2              country              FRA   7307        8.78\n",
       "3              country              ESP   5996        7.20\n",
       "4              country              DEU   5116        6.15\n",
       "5              country              ITA   2658        3.19\n",
       "6              country              IRL   2340        2.81\n",
       "7              country              BEL   1648        1.98\n",
       "8              country              BRA   1553        1.87\n",
       "9              country              USA   1472        1.77\n",
       "10      market_segment        Online TA  39460       47.22\n",
       "11      market_segment    Offline TA/TO  17025       20.37\n",
       "12      market_segment           Groups  13721       16.42\n",
       "13      market_segment           Direct   8898       10.65\n",
       "14      market_segment        Corporate   3792        4.54\n",
       "15      market_segment    Complementary    511        0.61\n",
       "16      market_segment         Aviation    165        0.20\n",
       "17      market_segment        Undefined      1        0.00\n",
       "18        deposit_type       No Deposit  73352       87.77\n",
       "19        deposit_type       Non Refund  10111       12.10\n",
       "20        deposit_type       Refundable    110        0.13\n",
       "21       customer_type        Transient  62732       75.06\n",
       "22       customer_type  Transient-Party  17536       20.98\n",
       "23       customer_type         Contract   2882        3.45\n",
       "24       customer_type            Group    423        0.51\n",
       "25  reserved_room_type                A  60041       71.84\n",
       "26  reserved_room_type                D  13526       16.18\n",
       "27  reserved_room_type                E   4649        5.56\n",
       "28  reserved_room_type                F   2037        2.44\n",
       "29  reserved_room_type                G   1447        1.73\n",
       "30  reserved_room_type                B    787        0.94\n",
       "31  reserved_room_type                C    673        0.81\n",
       "32  reserved_room_type                H    401        0.48\n",
       "33  reserved_room_type                P      9        0.01\n",
       "34  reserved_room_type                L      3        0.00"
      ]
     },
     "execution_count": 171,
     "metadata": {},
     "output_type": "execute_result"
    }
   ],
   "source": [
    "# Create an empty list to store summaries\n",
    "all_cat_summary = []\n",
    "\n",
    "for col in categorical_cols:\n",
    "    counts = df[col].value_counts()\n",
    "    percents = df[col].value_counts(normalize=True).mul(100).round(2)\n",
    "    summary_df = pd.DataFrame({\n",
    "        'Column': col,\n",
    "        'Category': counts.index,\n",
    "        'Count': counts.values,\n",
    "        'Percentage': percents.values\n",
    "    }).sort_values(by='Percentage', ascending=False)  # sort within column\n",
    "    summary_df = summary_df.head(10)  # limit to top 10 per column\n",
    "    all_cat_summary.append(summary_df)\n",
    "\n",
    "# Combine all into one DataFrame\n",
    "categorical_summary_df = pd.concat(all_cat_summary, ignore_index=True)\n",
    "\n",
    "categorical_summary_df\n"
   ]
  },
  {
   "cell_type": "markdown",
   "metadata": {},
   "source": [
    "Observation: Certain categories dominate in some features (e.g., X in market_segment), while others appear very rarely. Will assess rare category handling in later cleaning steps."
   ]
  },
  {
   "cell_type": "markdown",
   "metadata": {},
   "source": [
    "Important to note that we see in the market segment feature of one row being 'Undefined'. "
   ]
  },
  {
   "cell_type": "markdown",
   "metadata": {},
   "source": [
    "Summary: Categorical profiling complete. Several columns show strong category dominance, and some categories occur very rarely. These findings will inform encoding strategy and possible category grouping during Data Cleaning."
   ]
  },
  {
   "cell_type": "markdown",
   "metadata": {},
   "source": [
    "After going through the raw data there is an important decision to make regarding of one of the features. \n",
    "\n",
    "For feature country there are many considerations to dropping it. \n",
    "\n",
    "High cardinality - country often has dozens (sometimes hundreds) of distinct values.\n",
    "\n",
    "One-hot encoding would produce many columns, making the dataset sparse and possibly slowing down training.\n",
    "\n",
    "Potentially low predictive power - If cancellation behavior doesn’t strongly depend on the customer’s country, it might add noise rather than signal. Some countries just have either 0% cancellation rate or 100% cancellation rate which will affect the model. \n",
    "\n",
    "Small sample sizes per category - Countries with very few bookings don’t provide stable patterns for the model to learn from.\n",
    "\n",
    "Class imbalance within the feature - One country (e.g., PRT for Portugal) might dominate the data, making the rest negligible.\n",
    "\n"
   ]
  },
  {
   "cell_type": "markdown",
   "metadata": {},
   "source": [
    "## **Section 4. Data Generation**"
   ]
  },
  {
   "cell_type": "markdown",
   "metadata": {},
   "source": [
    "**4.1 Constructing `Seen` and `Unseen` Data**"
   ]
  },
  {
   "cell_type": "markdown",
   "metadata": {},
   "source": [
    "Rationale for Seen vs Unseen (time-based or business-rule split).\n",
    "\n",
    "Code that filters raw df into df_seen and df_unseen (still raw).\n",
    "\n",
    "From df_seen, do train/test split only:\n",
    "\n",
    "Section 4: define df_seen, df_unseen, then train_test_split on df_seen → yields X_train, X_test, y_train, y_test.\n",
    "\n",
    "In Section 4 (Cells ~59–64): ensure it only builds df_seen, df_unseen, and performs the train/test split from df_seen. Remove any imputation/encoding there."
   ]
  },
  {
   "cell_type": "code",
   "execution_count": 172,
   "metadata": {},
   "outputs": [
    {
     "name": "stdout",
     "output_type": "stream",
     "text": [
      "Features shape: (83573, 10)\n",
      "Target shape  : (83573,)\n"
     ]
    }
   ],
   "source": [
    "# Defining Features & target\n",
    "TARGET = 'is_canceled'\n",
    "\n",
    "# Defining X and y\n",
    "X = df.drop(columns=TARGET)\n",
    "y = df[TARGET]\n",
    "print(f\"Features shape: {X.shape}\")\n",
    "print(f\"Target shape  : {y.shape}\")\n",
    "# Displaying columns and target"
   ]
  },
  {
   "cell_type": "markdown",
   "metadata": {},
   "source": [
    "**4.2 Constructing `Training` and `Testing` Data (from `Seen` Dataset)**"
   ]
  },
  {
   "cell_type": "code",
   "execution_count": 173,
   "metadata": {},
   "outputs": [
    {
     "name": "stdout",
     "output_type": "stream",
     "text": [
      "Seen (train) set: (66858, 10), (66858,)\n",
      "Unseen (test) set: (16715, 10), (16715,)\n"
     ]
    }
   ],
   "source": [
    "# Create Seen (train) and Unseen (final holdout) data splits\n",
    "X_train, X_test, y_train, y_test = train_test_split(\n",
    "    X, y,\n",
    "    test_size=0.20,       # 20% Unseen holdout\n",
    "    stratify=y,           # preserve target proportion\n",
    "    random_state=SEED     # use reproducibility variable\n",
    ")\n",
    "\n",
    "print(f\"Seen (train) set: {X_train.shape}, {y_train.shape}\")\n",
    "print(f\"Unseen (test) set: {X_test.shape}, {y_test.shape}\")"
   ]
  },
  {
   "cell_type": "code",
   "execution_count": 174,
   "metadata": {},
   "outputs": [
    {
     "name": "stdout",
     "output_type": "stream",
     "text": [
      "Train cancellation rate: 36.83% (24622 / 66858)\n",
      "Test  cancellation rate: 36.83% (6156 / 16715)\n",
      "--------------------------------------------------\n",
      "Train size: 66858 rows, Test size: 16715 rows\n"
     ]
    }
   ],
   "source": [
    "# Check target distribution and sizes in both splits\n",
    "train_cancel_rate = y_train.mean()\n",
    "test_cancel_rate  = y_test.mean()\n",
    "\n",
    "print(f\"Train cancellation rate: {train_cancel_rate:.2%} ({y_train.sum()} / {len(y_train)})\")\n",
    "print(f\"Test  cancellation rate: {test_cancel_rate:.2%} ({y_test.sum()} / {len(y_test)})\")\n",
    "print(\"-\" * 50)\n",
    "print(f\"Train size: {X_train.shape[0]} rows, Test size: {X_test.shape[0]} rows\")"
   ]
  },
  {
   "cell_type": "markdown",
   "metadata": {},
   "source": [
    "a 60/40 data set is not considered imbalanced here. "
   ]
  },
  {
   "cell_type": "code",
   "execution_count": 175,
   "metadata": {},
   "outputs": [
    {
     "name": "stdout",
     "output_type": "stream",
     "text": [
      "country:\n",
      "['PRT' 'BEL' 'FIN' 'ARE' 'FRA' 'DEU' 'AGO' 'ESP' 'CN' 'SWE' 'GBR' 'BRA'\n",
      " 'PRI' 'VEN' 'USA' 'ARG' 'IRL' 'NOR' 'CYP' 'IND' 'CHE' 'NGA' 'MAR' 'HKG'\n",
      " 'TUR' 'AUS' 'ITA' 'LBN' 'NLD' nan 'POL' 'ECU' 'CHN' 'ROU' 'THA' 'AUT'\n",
      " 'ISR' 'VNM' 'CZE' 'EST' 'BGR' 'ISL' 'ZAF' 'DNK' 'GRC' 'SVN' 'RUS' 'UKR'\n",
      " 'LUX' 'IDN' 'CUB' 'URY' 'COL' 'LVA' 'PHL' 'JPN' 'DZA' 'SGP' 'HUN' 'DMA'\n",
      " 'SAU' 'IRN' 'HRV' 'PER' 'CHL' 'PAK' 'JOR' 'MEX' 'TUN' 'BEN' 'MOZ' 'BLR'\n",
      " 'AZE' 'CRI' 'KOR' 'TMP' 'LTU' 'ETH' 'EGY' 'NZL' 'UZB' 'GNB' 'SVK' 'MLT'\n",
      " 'SRB' 'MAC' 'MKD' 'BDI' 'TWN' 'KAZ' 'ALB' 'LBY' 'KNA' 'OMN' 'LIE' 'CPV'\n",
      " 'MDV' 'CIV' 'GIB' 'MYS' 'ABW' 'MUS' 'BIH' 'GGY' 'SEN' 'KHM' 'AND' 'BHR'\n",
      " 'KWT' 'SUR' 'QAT' 'GHA' 'PRY' 'ARM' 'IRQ' 'FRO' 'DOM' 'PAN' 'GEO' 'UGA'\n",
      " 'LKA' 'SYR' 'MMR' 'CAF' 'ZMB' 'BOL' 'CMR' 'BGD' 'JEY' 'GAB' 'MWI' 'KIR'\n",
      " 'LCA' 'MLI' 'TJK' 'SYC' 'PLW' 'BRB' 'JAM' 'TZA' 'AIA' 'RWA' 'ZWE' 'BWA'\n",
      " 'GLP' 'MNE' 'LAO' 'IMN' 'UMI' 'GTM' 'CYM' 'KEN' 'TGO' 'VGB' 'COM' 'MYT'\n",
      " 'BFA']\n",
      "\n",
      "market_segment:\n",
      "['Offline TA/TO' 'Online TA' 'Groups' 'Complementary' 'Direct' 'Corporate'\n",
      " 'Aviation']\n",
      "\n",
      "previous_cancellations:\n",
      "[ 0  1  2 11  6  4 26  3  5 25 13 14 24 19 21]\n",
      "\n",
      "booking_changes:\n",
      "[ 0  1  2  3  4  5  7  6 16 10 12  8 17 20 15 14 13 21  9]\n",
      "\n",
      "deposit_type:\n",
      "['No Deposit' 'Non Refund' 'Refundable']\n",
      "\n",
      "days_in_waiting_list:\n",
      "[  0  15  58  98  39  87 187  44  69  77  42 108  93  31  35  62  38 121\n",
      "  28 223  63  21  40  56  46  19  68  91   6  43  48  41  53   3  47 147\n",
      " 236  34  18  75 259  60  59   5 101 160 183 391 215 174  32  50  61  10\n",
      "   4 105  79   1  45  20  65  33 178  71  92  22 122  73  27  80  24 176\n",
      " 111  17 125 162 379  96 150   9 330  25 207  57  16 113  97  70  85  49\n",
      "  55  74  14  76 120 224  99 100 107  13  30  84 185  12  11  36   8 165\n",
      "  64   7   2  26]\n",
      "\n",
      "customer_type:\n",
      "['Transient' 'Transient-Party' 'Contract' 'Group']\n",
      "\n",
      "reserved_room_type:\n",
      "['A' 'D' 'F' 'E' 'C' 'H' 'G' 'B' 'P' 'L']\n",
      "\n",
      "required_car_parking_spaces:\n",
      "[0 1 2 3]\n",
      "\n",
      "total_of_special_requests:\n",
      "[0 2 1 3 4 5]\n",
      "\n"
     ]
    }
   ],
   "source": [
    "# Display unique values for each column in X_train\n",
    "for col in X_train.columns:\n",
    "    unique_values = X_train[col].unique()\n",
    "    print(f\"{col}:\\n{unique_values}\\n\")"
   ]
  },
  {
   "cell_type": "markdown",
   "metadata": {},
   "source": [
    "Removing country from modeling\n",
    "country has very high cardinality, which would blow up the one‑hot feature space with sparse dummies and little business signal for cancellations. We exclude it from modeling to reduce noise and complexity."
   ]
  },
  {
   "cell_type": "code",
   "execution_count": 176,
   "metadata": {},
   "outputs": [
    {
     "name": "stdout",
     "output_type": "stream",
     "text": [
      "Dropped columns: ['country']\n",
      "X_train shape: (66858, 9) | X_test shape: (16715, 9)\n"
     ]
    }
   ],
   "source": [
    "# Columns to exclude from modeling\n",
    "LEAKAGE_COLS = [\"country\"]  # not classic leakage, but unwanted/high-card\n",
    "\n",
    "# Drop from both splits before building feature lists / pipelines\n",
    "X_train = X_train.drop(columns=LEAKAGE_COLS, errors=\"ignore\")\n",
    "X_test  = X_test.drop(columns=LEAKAGE_COLS,  errors=\"ignore\")\n",
    "\n",
    "# Sanity check\n",
    "assert \"country\" not in X_train.columns\n",
    "assert \"country\" not in X_test.columns\n",
    "print(\"Dropped columns:\", LEAKAGE_COLS)\n",
    "print(\"X_train shape:\", X_train.shape, \"| X_test shape:\", X_test.shape)\n"
   ]
  },
  {
   "cell_type": "markdown",
   "metadata": {},
   "source": [
    "**4.3 Cross-Validation Strategy (for all model selection/tuning)**"
   ]
  },
  {
   "cell_type": "code",
   "execution_count": 177,
   "metadata": {},
   "outputs": [
    {
     "data": {
      "text/plain": [
       "StratifiedKFold(n_splits=5, random_state=42, shuffle=True)"
      ]
     },
     "execution_count": 177,
     "metadata": {},
     "output_type": "execute_result"
    }
   ],
   "source": [
    "# 5-fold CV, stratified, shuffled, reproducible\n",
    "cv = StratifiedKFold(\n",
    "    n_splits=5,\n",
    "    shuffle=True,\n",
    "    random_state=SEED\n",
    ")\n",
    "cv"
   ]
  },
  {
   "cell_type": "markdown",
   "metadata": {},
   "source": [
    "## **Section 5. Exploratory Data Analysis (EDA)**"
   ]
  },
  {
   "cell_type": "markdown",
   "metadata": {},
   "source": [
    "**5.1 Analysis 1**"
   ]
  },
  {
   "cell_type": "markdown",
   "metadata": {},
   "source": [
    "**5.2 Analysis 2**"
   ]
  },
  {
   "cell_type": "markdown",
   "metadata": {},
   "source": [
    "## **Section 6. Data Preparation**"
   ]
  },
  {
   "cell_type": "markdown",
   "metadata": {},
   "source": [
    "**6.1 Content summary**\n",
    "\n",
    "Initialize feature lists (numeric vs categorical)\n",
    "\n",
    "Remove target/leakage columns (guardrails)\n",
    "\n",
    "Build preprocessing: missing values -> rare-category grouping -> one‑hot (binary-safe)-> scaling\n",
    "\n",
    "Package everything in a single ColumnTransformer for CV"
   ]
  },
  {
   "cell_type": "code",
   "execution_count": 178,
   "metadata": {},
   "outputs": [
    {
     "name": "stdout",
     "output_type": "stream",
     "text": [
      "Counts - numeric: 5 | categorical: 4\n"
     ]
    }
   ],
   "source": [
    "# --- Target & guardrails ---\n",
    "TARGET = \"is_canceled\"\n",
    "LEAKAGE_COLS = [\"country\"]  # added known leaks here if any are identified later, in this case 'country' \n",
    "\n",
    "# --- Feature lists from X_train ---\n",
    "features_all = [c for c in X_train.columns if c not in LEAKAGE_COLS]\n",
    "features_num = X_train[features_all].select_dtypes(include=[\"number\"]).columns.tolist()\n",
    "features_cat = [c for c in features_all if c not in features_num]\n",
    "\n",
    "print(\"Counts - numeric:\", len(features_num), \"| categorical:\", len(features_cat))"
   ]
  },
  {
   "cell_type": "markdown",
   "metadata": {},
   "source": [
    "**6.3 Rare-category grouping helper**\n",
    "\n",
    "Groups infrequent categories to a single label \"OTHER\" based only on Seen data."
   ]
  },
  {
   "cell_type": "code",
   "execution_count": 179,
   "metadata": {},
   "outputs": [],
   "source": [
    "# --- Rare category grouper ---\n",
    "\n",
    "class RareCategoryGrouper(BaseEstimator, TransformerMixin):\n",
    "    def __init__(self, min_freq=0.01, other_label=\"__OTHER__\"):\n",
    "        \"\"\"\n",
    "        min_freq: Minimum frequency threshold (proportion of total rows) for a category to be kept.\n",
    "                  Categories below this threshold are replaced with `other_label`.\n",
    "        other_label: Label used for rare categories.\n",
    "        \"\"\"\n",
    "        self.min_freq = min_freq             # store chosen frequency threshold\n",
    "        self.other_label = other_label       # store label name for rare categories\n",
    "        self.maps_ = {}                      # will store set of allowed categories per column\n",
    "        self.columns_ = []                   # will remember column names during fit\n",
    "\n",
    "    def fit(self, X, y=None):\n",
    "        X = pd.DataFrame(X)                  # ensure DataFrame interface\n",
    "        self.columns_ = X.columns.tolist()   # remember column names\n",
    "\n",
    "        n = len(X)                           # number of rows (for proportion calculation)\n",
    "        for col in self.columns_:\n",
    "            freq = X[col].value_counts(dropna=False) / n  # relative frequencies\n",
    "            keep = freq[freq >= self.min_freq].index      # categories meeting threshold\n",
    "            self.maps_[col] = set(map(str, keep))         # store as strings for consistency\n",
    "        return self\n",
    "\n",
    "    def transform(self, X):\n",
    "        # defensive copy to avoid modifying caller's data\n",
    "        X = pd.DataFrame(X).copy()\n",
    "        X.columns = self.columns_  # restore original column names\n",
    "\n",
    "        for col in self.columns_:\n",
    "            # cast to string and replace values not in keep set with other_label\n",
    "            X[col] = X[col].astype(str).where(\n",
    "                X[col].astype(str).isin(self.maps_[col]),\n",
    "                self.other_label\n",
    "            )\n",
    "        return X"
   ]
  },
  {
   "cell_type": "markdown",
   "metadata": {},
   "source": [
    "**6.4 Outlier capping (IQR winsorization) for numeric features**\n",
    "\n",
    "Compute caps on Seen only; apply the same caps to Unseen."
   ]
  },
  {
   "cell_type": "code",
   "execution_count": 180,
   "metadata": {},
   "outputs": [],
   "source": [
    "# --- IQR Capping Transformer ---\n",
    "\n",
    "class IQRCapper(BaseEstimator, TransformerMixin):\n",
    "    def __init__(self, factor=1.5):\n",
    "        \"\"\"\n",
    "        factor: Tukey fence multiplier. 1.5 is standard; larger values = looser capping.\n",
    "        \"\"\"\n",
    "        self.factor = factor                 # store the chosen IQR multiplier\n",
    "        self.bounds_ = {}                    # will hold per-column (low, high) caps\n",
    "        self.columns_ = []                   # will record column names seen during fit\n",
    "\n",
    "    def fit(self, X, y=None):\n",
    "        X = pd.DataFrame(X)                  # ensure a DataFrame interface\n",
    "        self.columns_ = X.columns.tolist()   # remember column order/names\n",
    "\n",
    "        # compute caps for each numeric column using Tukey's fences\n",
    "        for col in self.columns_:\n",
    "            q1 = X[col].quantile(0.25)       # first quartile (25th percentile)\n",
    "            q3 = X[col].quantile(0.75)       # third quartile (75th percentile)\n",
    "            iqr = q3 - q1                    # interquartile range\n",
    "            lo = q1 - self.factor * iqr      # lower cap\n",
    "            hi = q3 + self.factor * iqr      # upper cap\n",
    "            self.bounds_[col] = (lo, hi)     # store caps for this column\n",
    "\n",
    "        return self                          # scikit-learn convention: return self\n",
    "\n",
    "    def transform(self, X):\n",
    "        # make a defensive copy so we don't mutate caller's data\n",
    "        X = pd.DataFrame(X).copy()\n",
    "\n",
    "        # restore original column names (important inside ColumnTransformer)\n",
    "        X.columns = self.columns_\n",
    "\n",
    "        # apply clipping per column based on fitted caps\n",
    "        for col, (lo, hi) in self.bounds_.items():\n",
    "            X[col] = X[col].clip(lower=lo, upper=hi)\n",
    "\n",
    "        return X                              # return transformed DataFrame\n"
   ]
  },
  {
   "cell_type": "markdown",
   "metadata": {},
   "source": [
    "## Outlier Handling – Capping Extreme Values\n",
    "\n",
    "After conducting an outlier analysis on the available numeric columns in the dataset, no negative or physically impossible values were found. However, certain variables showed extremely high values at the far right of their distribution (above the 99th percentile). While these values are technically possible, they are likely to represent rare business cases or potential anomalies that can disproportionately influence the machine learning model.\n",
    "\n",
    "**Rationale for Capping:**\n",
    "1. **Model Robustness:**  \n",
    "   Extreme values can skew the model’s learning process, especially in algorithms sensitive to scale or variance (e.g., linear models, k-NN).\n",
    "2. **Business Relevance:**  \n",
    "   Very large values (e.g., extremely high number of booking changes or days in waiting list) are rare and may not be representative of typical customer behavior.\n",
    "3. **Data Consistency:**  \n",
    "   By capping at the 99th percentile, we reduce the influence of extreme outliers while retaining the general structure of the data.\n",
    "4. **Avoid Data Loss:**  \n",
    "   Instead of removing these rows entirely, capping ensures that potentially valuable information from less extreme features is preserved.\n",
    "\n",
    "**Method Used:**\n",
    "- For each numeric column:\n",
    "  - Calculate the 99th percentile value.\n",
    "  - Any data point above this threshold is replaced (capped) with the threshold value.\n",
    "\n",
    "**Columns Subject to Capping:**\n",
    "- `previous_cancellations`  \n",
    "- `booking_changes`  \n",
    "- `days_in_waiting_list`  \n",
    "- `required_car_parking_spaces`  \n",
    "- `total_of_special_requests`  \n",
    "\n",
    "**Note:**  \n",
    "This method is a balance between **removing noise** and **preserving legitimate high values**, aligning with both statistical best practices and business understanding of the dataset."
   ]
  },
  {
   "cell_type": "code",
   "execution_count": 181,
   "metadata": {},
   "outputs": [],
   "source": [
    "# VarianceThreshold removes features with low variance (constant or nearly constant).\n",
    "# threshold=0.0 removes only columns with EXACTLY zero variance in the training set.\n",
    "# This helps eliminate constant columns that carry no predictive information.\n",
    "\n",
    "var_thresh = VarianceThreshold(threshold=0.0)"
   ]
  },
  {
   "cell_type": "markdown",
   "metadata": {},
   "source": [
    "Why it’s here: Prevents constant columns from staying in the dataset after preprocessing (especially from one-hot encoding or leakage).\n",
    "\n",
    "Why threshold=0.0: You’re only removing truly constant columns; higher thresholds would also remove features with small but non-zero variance, which might still be useful."
   ]
  },
  {
   "cell_type": "markdown",
   "metadata": {},
   "source": [
    "**6.5 Encoders, imputers, and scalers**\n",
    "\n",
    "Numeric: median impute → IQR cap → StandardScaler\n",
    "\n",
    "Categorical: most_frequent impute → rare-category group → OneHotEncoder(handle_unknown='ignore', drop='if_binary')"
   ]
  },
  {
   "cell_type": "code",
   "execution_count": 182,
   "metadata": {},
   "outputs": [],
   "source": [
    "features_num = X_train.select_dtypes(include=[\"number\"]).columns.tolist()\n",
    "features_cat = X_train.select_dtypes(exclude=[\"number\"]).columns.tolist()\n"
   ]
  },
  {
   "cell_type": "code",
   "execution_count": 183,
   "metadata": {},
   "outputs": [
    {
     "name": "stdout",
     "output_type": "stream",
     "text": [
      "scikit-learn version: 1.7.1\n"
     ]
    }
   ],
   "source": [
    "from sklearn import __version__ as skl_version\n",
    "from packaging import version\n",
    "print(\"scikit-learn version:\", skl_version)"
   ]
  },
  {
   "cell_type": "code",
   "execution_count": 184,
   "metadata": {},
   "outputs": [],
   "source": [
    "num_pipeline = Pipeline(steps=[\n",
    "    (\"impute\", SimpleImputer(strategy=\"median\")),         # fill missing numbers\n",
    "    (\"cap\",    IQRCapper(factor=1.5)),                     # cap outliers\n",
    "    (\"scale\",  StandardScaler()),                          # standardize\n",
    "    (\"var\",    VarianceThreshold(threshold=0.0))           # drop constants\n",
    "])\n",
    "\n",
    "cat_pipeline = Pipeline(steps=[\n",
    "    (\"impute\", SimpleImputer(strategy=\"most_frequent\")),   # fill missing categories\n",
    "    (\"rare\",   RareCategoryGrouper(min_freq=0.01)),        # group rare categories\n",
    "    (\"onehot\", OneHotEncoder(handle_unknown=\"ignore\",\n",
    "                             drop=\"if_binary\",\n",
    "                             sparse_output=False)),        # one-hot encode\n",
    "    (\"var\",    VarianceThreshold(threshold=0.0))           # drop constants\n",
    "])\n",
    "\n",
    "\n",
    "preprocessor = ColumnTransformer(\n",
    "    transformers=[\n",
    "        (\"num\", num_pipeline, features_num),\n",
    "        (\"cat\", cat_pipeline, features_cat)\n",
    "    ],\n",
    "    remainder=\"drop\"\n",
    ")\n"
   ]
  },
  {
   "cell_type": "markdown",
   "metadata": {},
   "source": [
    "**6.6 Final preprocessing overview before modeling**\n",
    "\n",
    "Fit only on Seen; inspect shapes & feature names (helps debugging and Section 6.1 recap)."
   ]
  },
  {
   "cell_type": "code",
   "execution_count": 185,
   "metadata": {},
   "outputs": [
    {
     "name": "stdout",
     "output_type": "stream",
     "text": [
      "Prepared shapes → X_train_prep: (66858, 20) | X_test_prep: (16715, 20)\n"
     ]
    }
   ],
   "source": [
    "# Fit on Seen (training) only\n",
    "preprocessor_fitted = preprocessor.fit(X_train)\n",
    "\n",
    "# Transform both sets\n",
    "X_train_prep = preprocessor_fitted.transform(X_train)\n",
    "X_test_prep  = preprocessor_fitted.transform(X_test)\n",
    "\n",
    "print(\"Prepared shapes →\",\n",
    "      \"X_train_prep:\", X_train_prep.shape,\n",
    "      \"| X_test_prep:\",  X_test_prep.shape)\n"
   ]
  },
  {
   "cell_type": "code",
   "execution_count": 186,
   "metadata": {},
   "outputs": [
    {
     "name": "stdout",
     "output_type": "stream",
     "text": [
      "Final feature count: 20 (sample: ['total_of_special_requests', 'market_segment_Corporate', 'market_segment_Direct', 'market_segment_Groups', 'market_segment_Offline TA/TO', 'market_segment_Online TA', 'market_segment___OTHER__', 'deposit_type_No Deposit', 'deposit_type_Non Refund', 'deposit_type___OTHER__'])\n"
     ]
    }
   ],
   "source": [
    "# --------------------------\n",
    "# Feature names after VarThresh\n",
    "# --------------------------\n",
    "def get_final_feature_names(prep, num_cols, cat_cols):\n",
    "    # names prior to VarianceThreshold\n",
    "    ohe = prep.named_transformers_[\"cat\"].named_steps[\"onehot\"]\n",
    "    cat_ohe_names = ohe.get_feature_names_out(cat_cols).tolist()\n",
    "    num_names = num_cols\n",
    "\n",
    "    # masks from each VarianceThreshold\n",
    "    num_keep = prep.named_transformers_[\"num\"].named_steps[\"var\"].get_support()\n",
    "    cat_keep = prep.named_transformers_[\"cat\"].named_steps[\"var\"].get_support()\n",
    "\n",
    "    kept_num = [n for n, keep in zip(num_names, num_keep) if keep]\n",
    "    kept_cat = [n for n, keep in zip(cat_ohe_names, cat_keep) if keep]\n",
    "    return kept_num + kept_cat\n",
    "\n",
    "final_feature_names = get_final_feature_names(preprocessor_fitted, features_num, features_cat)\n",
    "print(f\"Final feature count: {len(final_feature_names)} (sample: {final_feature_names[:10]})\")"
   ]
  },
  {
   "cell_type": "markdown",
   "metadata": {},
   "source": [
    "**6.7 Convert to DataFrame + sanity checks**"
   ]
  },
  {
   "cell_type": "code",
   "execution_count": 187,
   "metadata": {},
   "outputs": [
    {
     "name": "stdout",
     "output_type": "stream",
     "text": [
      "Prepared DF shapes → X_train_prep_df: (66858, 20) | X_test_prep_df: (16715, 20)\n"
     ]
    }
   ],
   "source": [
    "# Make DataFrames (This is done to help debugging and do some model introspection)\n",
    "X_train_prep_df = pd.DataFrame(X_train_prep, columns=final_feature_names, index=X_train.index)\n",
    "X_test_prep_df  = pd.DataFrame(X_test_prep,  columns=final_feature_names, index=X_test.index)\n",
    "\n",
    "# Basic sanity checks\n",
    "assert not np.isnan(X_train_prep_df.values).any(), \"NaNs found in X_train_prep_df!\"\n",
    "assert not np.isnan(X_test_prep_df.values).any(),  \"NaNs found in X_test_prep_df!\"\n",
    "assert X_train_prep_df.shape[1] == X_test_prep_df.shape[1] == len(final_feature_names)\n",
    "\n",
    "print(\"Prepared DF shapes →\",\n",
    "      \"X_train_prep_df:\", X_train_prep_df.shape,\n",
    "      \"| X_test_prep_df:\",  X_test_prep_df.shape)"
   ]
  },
  {
   "cell_type": "code",
   "execution_count": 188,
   "metadata": {},
   "outputs": [
    {
     "name": "stdout",
     "output_type": "stream",
     "text": [
      "Constant columns after prep: 0\n"
     ]
    }
   ],
   "source": [
    "# Check for zero-variance (constant) columns after preprocessing\n",
    "n_unique_train = X_train_prep_df.nunique(dropna=False)\n",
    "constant_cols = n_unique_train[n_unique_train <= 1].index.tolist()\n",
    "print(f\"Constant columns after prep: {len(constant_cols)}\")\n",
    "if constant_cols[:10]: print(\"Sample:\", constant_cols[:10])\n"
   ]
  },
  {
   "cell_type": "markdown",
   "metadata": {},
   "source": [
    "**6.2 Data Transformation (Feature Engineering)**"
   ]
  },
  {
   "cell_type": "markdown",
   "metadata": {},
   "source": [
    "Seen/Unseen split (train/test) - stratify if classification.\n",
    "\n",
    "Outlier handling (e.g., capping at p99, only fit caps on train).\n",
    "\n",
    "Missing value handling (fit imputers on train, apply to both). \n",
    "\n",
    "Encode rare categories or group them (train fit, test transform).\n",
    "\n",
    "Create new engineered features if needed (date features, ratios).\n",
    "\n",
    "Scaling numeric variables (if needed for your chosen model).\n",
    "\n",
    "- Train/Test split (construct seen vs unseen)\n",
    "- Outlier handling (fit thresholds on train only)\n",
    "- Missing value handling (imputers)\n",
    "- Encoding categorical variables\n",
    "- (Optional) scaling numeric variables\n",
    "- (Optional) feature engineering (new columns)"
   ]
  },
  {
   "cell_type": "code",
   "execution_count": 189,
   "metadata": {},
   "outputs": [
    {
     "data": {
      "application/vnd.microsoft.datawrangler.viewer.v0+json": {
       "columns": [
        {
         "name": "index",
         "rawType": "object",
         "type": "string"
        },
        {
         "name": "0",
         "rawType": "int64",
         "type": "integer"
        }
       ],
       "ref": "bce7af43-b8c8-4489-b693-c4c9d768a98d",
       "rows": [
        [
         "country",
         "351"
        ],
        [
         "market_segment",
         "0"
        ],
        [
         "previous_cancellations",
         "0"
        ],
        [
         "booking_changes",
         "0"
        ],
        [
         "deposit_type",
         "0"
        ],
        [
         "days_in_waiting_list",
         "0"
        ],
        [
         "customer_type",
         "0"
        ],
        [
         "reserved_room_type",
         "0"
        ],
        [
         "required_car_parking_spaces",
         "0"
        ],
        [
         "total_of_special_requests",
         "0"
        ],
        [
         "is_canceled",
         "0"
        ]
       ],
       "shape": {
        "columns": 1,
        "rows": 11
       }
      },
      "text/plain": [
       "country                        351\n",
       "market_segment                   0\n",
       "previous_cancellations           0\n",
       "booking_changes                  0\n",
       "deposit_type                     0\n",
       "days_in_waiting_list             0\n",
       "customer_type                    0\n",
       "reserved_room_type               0\n",
       "required_car_parking_spaces      0\n",
       "total_of_special_requests        0\n",
       "is_canceled                      0\n",
       "dtype: int64"
      ]
     },
     "execution_count": 189,
     "metadata": {},
     "output_type": "execute_result"
    }
   ],
   "source": [
    "df.isna().sum()\n"
   ]
  },
  {
   "cell_type": "markdown",
   "metadata": {},
   "source": [
    "Purpose: Identify columns with missing values to decide on appropriate imputation or removal methods. Strategy will be based on feature type, proportion missing, and business relevance."
   ]
  },
  {
   "cell_type": "markdown",
   "metadata": {},
   "source": [
    "**6.3 Overview**"
   ]
  },
  {
   "cell_type": "markdown",
   "metadata": {},
   "source": [
    "Summarize preprocessing steps taken.\n",
    "\n",
    "Show dataset shape after preprocessing.\n",
    "\n",
    "Verify distributions and target balance between train and test."
   ]
  },
  {
   "cell_type": "markdown",
   "metadata": {},
   "source": [
    "## **Section 7. Model Development**"
   ]
  },
  {
   "cell_type": "markdown",
   "metadata": {},
   "source": [
    "**7.1 Initialization**\n",
    "\n",
    "Define custom metrics (if business-specific evaluation is needed).\n",
    "\n",
    "Set random seeds for reproducibility.\n",
    "\n",
    "Create an experiment workflow structure (e.g., pipelines, logging)"
   ]
  },
  {
   "cell_type": "code",
   "execution_count": 200,
   "metadata": {},
   "outputs": [],
   "source": [
    "# === 7.1 Metrics/Helpers ===\n",
    "\n",
    "# Scorers (keep it small but complete)\n",
    "SCORING = {\n",
    "    \"f1\": \"f1\",\n",
    "    \"recall\": \"recall\",\n",
    "    \"precision\": \"precision\",\n",
    "    \"accuracy\": \"accuracy\",\n",
    "    \"roc_auc\": \"roc_auc\",                    # needs_proba internally\n",
    "    \"pr_auc\": make_scorer(average_precision_score, needs_proba=True)\n",
    "}\n",
    "def eval_models_simple(models, X, y, metric='roc_auc'):\n",
    "    names, means, stds = [], [], []\n",
    "    for name, clf in models.items():\n",
    "        pipe = Pipeline([('preprocess', preprocessor), ('model', clf)])\n",
    "        scores = cross_val_score(pipe, X, y, cv=cv, scoring=metric, n_jobs=-1)\n",
    "        names.append(name); means.append(scores.mean()); stds.append(scores.std())\n",
    "    return (pd.DataFrame({'model': names, f'mean {metric}': means, 'std': stds})\n",
    "              .set_index('model')\n",
    "              .sort_values(by=f'mean {metric}', ascending=False))"
   ]
  },
  {
   "cell_type": "markdown",
   "metadata": {
    "vscode": {
     "languageId": "plaintext"
    }
   },
   "source": [
    "**7.2 Developing the Model Pipeline**"
   ]
  },
  {
   "cell_type": "markdown",
   "metadata": {},
   "source": [
    "Combine preprocessing from Section 6 with model in a single Pipeline or ColumnTransformer.\n",
    "\n",
    "Start with a baseline model (Logistic Regression, Decision Tree, etc.)."
   ]
  },
  {
   "cell_type": "code",
   "execution_count": 201,
   "metadata": {},
   "outputs": [],
   "source": [
    "# ----- Define the eight baseline models (matching your class examples) -----\n",
    "logreg = LogisticRegression(random_state=0, solver='liblinear', max_iter=1000)\n",
    "knn    = KNeighborsClassifier(n_neighbors=5)\n",
    "dtree  = DecisionTreeClassifier(random_state=0, max_depth=5)\n",
    "rf     = RandomForestClassifier(random_state=0, n_estimators=300, n_jobs=-1)\n",
    "ada    = AdaBoostClassifier(random_state=0)\n",
    "gbm    = GradientBoostingClassifier(random_state=0)\n",
    "lgbm = LGBMClassifier(random_state=0)\n",
    "xgboost = XGBClassifier(random_state=0, eval_metric='logloss', tree_method='hist')"
   ]
  },
  {
   "cell_type": "code",
   "execution_count": 202,
   "metadata": {},
   "outputs": [],
   "source": [
    "models = {\n",
    "    'Logistic Regression': logreg,\n",
    "    'KNN': knn,\n",
    "    'Decision Tree': dtree,\n",
    "    'Random Forest': rf,\n",
    "    'AdaBoost': ada,\n",
    "    'Gradient Boosting': gbm,\n",
    "    'LightGBM': lgbm,\n",
    "    'XGBoost': xgboost\n",
    "}"
   ]
  },
  {
   "cell_type": "markdown",
   "metadata": {},
   "source": [
    "**7.3 Model Benchmarking (Comparing model base performance)**"
   ]
  },
  {
   "cell_type": "markdown",
   "metadata": {},
   "source": [
    "Train multiple baseline models.\n",
    "\n",
    "Compare them using cross-validation scores on the training set."
   ]
  },
  {
   "cell_type": "code",
   "execution_count": null,
   "metadata": {},
   "outputs": [
    {
     "name": "stdout",
     "output_type": "stream",
     "text": [
      "Models to evaluate: ['Logistic Regression', 'KNN', 'Decision Tree', 'Random Forest', 'AdaBoost', 'Gradient Boosting', 'LightGBM', 'XGBoost']\n"
     ]
    }
   ],
   "source": [
    "# Check which models will be evaluated\n",
    "print(\"Models to evaluate:\", list(models.keys()))\n",
    "\n",
    "# ----- Evaluate (one metric at a time) -----\n",
    "results_rocauc = eval_models_simple(models, X_train, y_train, metric='roc_auc')\n",
    "results_f1     = eval_models_simple(models, X_train, y_train, metric='f1')\n",
    "results_recall = eval_models_simple(models, X_train, y_train, metric='recall')\n",
    "\n",
    "# Show the results for each metric\n",
    "print(\"ROC-AUC (CV, 5-fold):\")\n",
    "display(results_rocauc)\n",
    "\n",
    "print(\"F1 (CV, 5-fold):\")\n",
    "display(results_f1)\n",
    "\n",
    "print(\"Recall (CV, 5-fold):\")\n",
    "display(results_recall)\n",
    "\n",
    "# ----- Optional: Combine into one table -----\n",
    "baseline_table = (\n",
    "    results_rocauc.rename(columns={\"mean roc_auc\":\"roc_auc_mean\",\"std\":\"roc_auc_std\"})\n",
    "    .join(results_f1.rename(columns={\"mean f1\":\"f1_mean\",\"std\":\"f1_std\"}), how=\"outer\")\n",
    "    .join(results_recall.rename(columns={\"mean recall\":\"recall_mean\",\"std\":\"recall_std\"}), how=\"outer\")\n",
    "    .sort_values(\"f1_mean\", ascending=False)\n",
    ")\n",
    "\n",
    "print(\"Baseline summary (sorted by F1):\")\n",
    "display(baseline_table)"
   ]
  },
  {
   "cell_type": "code",
   "execution_count": 193,
   "metadata": {},
   "outputs": [],
   "source": [
    "# from sklearn.model_selection import cross_val_score\n",
    "\n",
    "# # Example: simple CV on training\n",
    "# cv_scores = cross_val_score(baseline_pipe, X_train, y_train, cv=5, scoring=\"f1\")\n",
    "# print(\"Baseline LogisticRegression CV F1:\", cv_scores.mean().round(4), \"+/-\", cv_scores.std().round(4))\n"
   ]
  },
  {
   "cell_type": "markdown",
   "metadata": {},
   "source": [
    "**7.4 Tune Model**"
   ]
  },
  {
   "cell_type": "markdown",
   "metadata": {},
   "source": [
    "Use GridSearchCV / RandomizedSearchCV for hyperparameter tuning.\n",
    "\n",
    "Select best model based on validation performance."
   ]
  },
  {
   "cell_type": "code",
   "execution_count": 194,
   "metadata": {},
   "outputs": [],
   "source": [
    "# from sklearn.model_selection import GridSearchCV\n",
    "\n",
    "# param_grid = {\n",
    "#     \"clf__C\": [0.1, 1.0, 3.0, 10.0],\n",
    "#     \"clf__penalty\": [\"l2\"],  # liblinear/saga allow l1; adjust if you switch solver\n",
    "# }\n",
    "# grid = GridSearchCV(\n",
    "#     estimator=baseline_pipe,\n",
    "#     param_grid=param_grid,\n",
    "#     scoring=\"f1\",\n",
    "#     cv=5,\n",
    "#     n_jobs=-1\n",
    "# )\n",
    "# grid.fit(X_train, y_train)\n",
    "\n",
    "# print(\"Best params:\", grid.best_params_)\n",
    "# print(\"Best CV F1 :\", round(grid.best_score_, 4))\n",
    "\n",
    "# best_model = grid.best_estimator_\n"
   ]
  },
  {
   "cell_type": "markdown",
   "metadata": {},
   "source": [
    "**7.5 Analyze Model**\n",
    "\n",
    "- Evaluate model on data testing\n",
    "- Residual Analysis\n",
    "- Learning Curve Inspection\n",
    "\n",
    "Evaluate best model on unseen test set.\n",
    "\n",
    "Perform residual analysis (for regression) or confusion matrix (for classification).\n",
    "\n",
    "Plot learning curves to check for over/underfitting."
   ]
  },
  {
   "cell_type": "code",
   "execution_count": 195,
   "metadata": {},
   "outputs": [],
   "source": [
    "# from sklearn.metrics import ConfusionMatrixDisplay\n",
    "# import matplotlib.pyplot as plt\n",
    "\n",
    "# y_pred = best_model.predict(X_test)\n",
    "# y_proba = (best_model.predict_proba(X_test)[:,1]\n",
    "#            if hasattr(best_model, \"predict_proba\") else None)\n",
    "\n",
    "# print(\"Test metrics:\", evaluate_clf(y_test, y_pred, y_proba))\n",
    "# print(\"\\nClassification Report:\\n\", classification_report(y_test, y_pred))\n",
    "\n",
    "# ConfusionMatrixDisplay.from_predictions(y_test, y_pred)\n",
    "# plt.title(\"Confusion Matrix (Test)\")\n",
    "# plt.show()\n"
   ]
  },
  {
   "cell_type": "markdown",
   "metadata": {},
   "source": [
    "**7.6 Model Calibration (Classification Only)**"
   ]
  },
  {
   "cell_type": "markdown",
   "metadata": {},
   "source": [
    "**7.6 Model Explanation and Interpretation**\n",
    "- Feature Importance (Tree Based Model) / Coefficient Regression (Regression Based Model)\n",
    "- SHAP Value identification\n",
    "- Counter Factual Analysis\n",
    "\n",
    "Feature importance (tree-based) or coefficients (linear models).\n",
    "\n",
    "SHAP/LIME for local interpretability.\n",
    "\n",
    "Counterfactual analysis if relevant."
   ]
  },
  {
   "cell_type": "code",
   "execution_count": 196,
   "metadata": {},
   "outputs": [],
   "source": [
    "# # Example for linear model coefficients:\n",
    "# if isinstance(best_model.named_steps[\"clf\"], LogisticRegression):\n",
    "#     # Get feature names from preprocessor\n",
    "#     ohe = best_model.named_steps[\"prep\"].named_transformers_[\"cat\"].named_steps[\"encoder\"]\n",
    "#     cat_feature_names = ohe.get_feature_names_out(categorical_cols).tolist()\n",
    "#     num_feature_names = numeric_cols\n",
    "#     feature_names = num_feature_names + cat_feature_names\n",
    "\n",
    "#     coefs = pd.Series(best_model.named_steps[\"clf\"].coef_[0], index=feature_names).sort_values(key=abs, ascending=False)\n",
    "#     display(coefs.head(20))\n"
   ]
  },
  {
   "cell_type": "code",
   "execution_count": 197,
   "metadata": {},
   "outputs": [],
   "source": [
    "# from sklearn.linear_model import LogisticRegression\n",
    "# from sklearn.ensemble import RandomForestClassifier, GradientBoostingClassifier\n",
    "# from sklearn.tree import DecisionTreeClassifier\n",
    "# from sklearn.neighbors import KNeighborsClassifier\n",
    "# from sklearn.svm import SVC\n",
    "# from sklearn.metrics import classification_report\n",
    "# from sklearn.pipeline import Pipeline\n",
    "\n",
    "# # Candidate models with default/basic hyperparameters\n",
    "# models = {\n",
    "#     \"Logistic Regression\": LogisticRegression(max_iter=500),\n",
    "#     \"Decision Tree\": DecisionTreeClassifier(random_state=SEED),\n",
    "#     \"Random Forest\": RandomForestClassifier(random_state=SEED),\n",
    "#     \"Gradient Boosting\": GradientBoostingClassifier(random_state=SEED),\n",
    "#     \"KNN\": KNeighborsClassifier(),\n",
    "#     \"SVC\": SVC(probability=True, random_state=SEED)\n",
    "# }\n",
    "\n",
    "# results = {}\n",
    "\n",
    "# for name, clf in models.items():\n",
    "#     # Build pipeline: preprocessing + model\n",
    "#     pipe = Pipeline(steps=[\n",
    "#         (\"prep\", preprocessor),\n",
    "#         (\"clf\", clf)\n",
    "#     ])\n",
    "    \n",
    "#     # Train\n",
    "#     pipe.fit(X_train, y_train)\n",
    "    \n",
    "#     # Predict\n",
    "#     y_pred = pipe.predict(X_test)\n",
    "#     y_proba = pipe.predict_proba(X_test)[:,1] if hasattr(pipe, \"predict_proba\") else None\n",
    "    \n",
    "#     # Evaluate\n",
    "#     results[name] = {\n",
    "#         \"accuracy\": accuracy_score(y_test, y_pred),\n",
    "#         \"precision\": precision_score(y_test, y_pred),\n",
    "#         \"recall\": recall_score(y_test, y_pred),\n",
    "#         \"f1\": f1_score(y_test, y_pred),\n",
    "#         \"roc_auc\": roc_auc_score(y_test, y_proba) if y_proba is not None else None\n",
    "#     }\n",
    "    \n",
    "#     print(f\"\\n{name}\")\n",
    "#     print(classification_report(y_test, y_pred))\n",
    "\n",
    "# # Show results table\n",
    "# results_df = pd.DataFrame(results).T.sort_values(by=\"f1\", ascending=False)\n",
    "# results_df\n"
   ]
  },
  {
   "cell_type": "code",
   "execution_count": 198,
   "metadata": {},
   "outputs": [],
   "source": [
    "# from sklearn.model_selection import StratifiedKFold, cross_validate\n",
    "# from sklearn.linear_model import LogisticRegression\n",
    "# from sklearn.tree import DecisionTreeClassifier\n",
    "# from sklearn.ensemble import RandomForestClassifier, GradientBoostingClassifier\n",
    "# from sklearn.neighbors import KNeighborsClassifier\n",
    "# from sklearn.svm import SVC\n",
    "# from sklearn.pipeline import Pipeline\n",
    "# from sklearn.metrics import (accuracy_score, precision_score, recall_score, \n",
    "#                              f1_score, roc_auc_score, classification_report)\n",
    "\n",
    "# # --- candidate models ---\n",
    "# models = {\n",
    "#     \"Logistic Regression\": LogisticRegression(max_iter=500),\n",
    "#     \"Decision Tree\": DecisionTreeClassifier(random_state=SEED),\n",
    "#     \"Random Forest\": RandomForestClassifier(random_state=SEED),\n",
    "#     \"Gradient Boosting\": GradientBoostingClassifier(random_state=SEED),\n",
    "#     \"KNN\": KNeighborsClassifier(),\n",
    "#     \"SVC\": SVC(probability=True, random_state=SEED),\n",
    "# }\n",
    "\n",
    "# # --- CV setup + metrics ---\n",
    "# cv = StratifiedKFold(n_splits=5, shuffle=True, random_state=SEED)\n",
    "# scoring = {\n",
    "#     \"accuracy\": \"accuracy\",\n",
    "#     \"precision\": \"precision\",\n",
    "#     \"recall\": \"recall\",\n",
    "#     \"f1\": \"f1\",\n",
    "#     \"roc_auc\": \"roc_auc\",\n",
    "# }\n",
    "\n",
    "# cv_summary = {}\n",
    "\n",
    "# for name, clf in models.items():\n",
    "#     pipe = Pipeline([(\"prep\", preprocessor), (\"clf\", clf)])\n",
    "#     scores = cross_validate(pipe, X_train, y_train, cv=cv, scoring=scoring, n_jobs=-1, return_train_score=False)\n",
    "#     cv_summary[name] = {f\"{k}_mean\": scores[f\"test_{k}\"].mean() for k in scoring}\n",
    "#     cv_summary[name].update({f\"{k}_std\": scores[f\"test_{k}\"].std() for k in scoring})\n",
    "\n",
    "# cv_df = pd.DataFrame(cv_summary).T.sort_values(by=\"f1_mean\", ascending=False)\n",
    "# display(cv_df.round(4))\n",
    "\n",
    "# # --- pick best by CV F1, refit on full TRAIN, evaluate on TEST ---\n",
    "# best_name = cv_df.index[0]\n",
    "# best_clf = models[best_name]\n",
    "# best_pipe = Pipeline([(\"prep\", preprocessor), (\"clf\", best_clf)])\n",
    "# best_pipe.fit(X_train, y_train)\n",
    "\n",
    "# y_pred = best_pipe.predict(X_test)\n",
    "# y_proba = best_pipe.predict_proba(X_test)[:, 1] if hasattr(best_pipe, \"predict_proba\") else None\n",
    "\n",
    "# print(f\"\\nBest by CV (F1): {best_name}\")\n",
    "# print(\"Test Accuracy :\", round(accuracy_score(y_test, y_pred), 4))\n",
    "# print(\"Test Precision:\", round(precision_score(y_test, y_pred), 4))\n",
    "# print(\"Test Recall   :\", round(recall_score(y_test, y_pred), 4))\n",
    "# print(\"Test F1       :\", round(f1_score(y_test, y_pred), 4))\n",
    "# if y_proba is not None:\n",
    "#     print(\"Test ROC AUC  :\", round(roc_auc_score(y_test, y_proba), 4))\n",
    "\n",
    "# print(\"\\nClassification report on TEST:\\n\", classification_report(y_test, y_pred))\n"
   ]
  },
  {
   "cell_type": "markdown",
   "metadata": {},
   "source": [
    "## **Section 8. Model Deployment**"
   ]
  },
  {
   "cell_type": "markdown",
   "metadata": {},
   "source": [
    "## **Section 9. Model Implementation**"
   ]
  },
  {
   "cell_type": "markdown",
   "metadata": {},
   "source": [
    "**9.1 How to implement the model ?**\n"
   ]
  },
  {
   "cell_type": "markdown",
   "metadata": {},
   "source": [
    "**9.2 What are the limitations of the model ?**"
   ]
  },
  {
   "cell_type": "markdown",
   "metadata": {},
   "source": [
    "**9.3 Business Calculation (Simulation using unseen data)**"
   ]
  },
  {
   "cell_type": "markdown",
   "metadata": {},
   "source": [
    "## **Section 10. Conclusion and Recommendation**"
   ]
  },
  {
   "cell_type": "markdown",
   "metadata": {},
   "source": [
    "**10.1 Conclusion**\n",
    "- Conclusion (Model)\n",
    "- Conclusion (Business)"
   ]
  },
  {
   "cell_type": "markdown",
   "metadata": {},
   "source": [
    "**10.2 Recommendation**\n",
    "- Recommendation (Model)\n",
    "- Recommendation (Business)"
   ]
  }
 ],
 "metadata": {
  "kernelspec": {
   "display_name": "base",
   "language": "python",
   "name": "python3"
  },
  "language_info": {
   "codemirror_mode": {
    "name": "ipython",
    "version": 3
   },
   "file_extension": ".py",
   "mimetype": "text/x-python",
   "name": "python",
   "nbconvert_exporter": "python",
   "pygments_lexer": "ipython3",
   "version": "3.12.7"
  }
 },
 "nbformat": 4,
 "nbformat_minor": 2
}
